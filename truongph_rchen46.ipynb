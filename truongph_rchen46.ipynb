{
  "nbformat": 4,
  "nbformat_minor": 0,
  "metadata": {
    "colab": {
      "name": "Copy of phase1.ipynb",
      "provenance": [],
      "collapsed_sections": [],
      "toc_visible": true
    },
    "kernelspec": {
      "name": "python3",
      "display_name": "Python 3.9.1 64-bit",
      "metadata": {
        "interpreter": {
          "hash": "fa4966a67c20a634607180e33aaa06baecc2acf01a17edbf027899ad336f170b"
        }
      }
    }
  },
  "cells": [
    {
      "cell_type": "markdown",
      "metadata": {
        "id": "9FIZCSqVuWSb"
      },
      "source": [
        "## Phase 1"
      ]
    },
    {
      "cell_type": "markdown",
      "metadata": {
        "id": "976IIwdyuhSk"
      },
      "source": [
        "### Header\n",
        "#### Course Name: CSE487\n",
        "#### phase #: 1\n",
        "#### term project name: Core Trends Analysis\n"
      ]
    },
    {
      "cell_type": "markdown",
      "metadata": {
        "id": "WlFNyBSWukkE"
      },
      "source": [
        "### Q Write down the following information: \n",
        "#### 1. Identify problems prevalent in public application domains. The issue(s) you are trying to address: This will be a 100-word abstract in the form of a problem statement.: \n",
        "    \n",
        "Our goal is to research and find correlations between modern day technology users and their demographics. Our project focuses on understanding the current patterns that different groups tend to follow. This is an important issue because it shows what interests the younger and older generations are looking towards. This will help companies decide what they should focus on building towards because groups tend to follow trends. If people follow trends and companies develop products and ideas of those trends they will be able to exponentially grow their companie with their product and ideas.\n",
        "\n",
        "Data Sources: https://www.pewresearch.org/"
      ]
    },
    {
      "cell_type": "markdown",
      "metadata": {
        "id": "Fz4y43obuocl"
      },
      "source": [
        "#### 2. Name of your data: Core Trends Analysis"
      ]
    },
    {
      "cell_type": "markdown",
      "metadata": {
        "id": "0GVyBWN0utp5"
      },
      "source": [
        "#### 3. Background:\n",
        "   + Source: https://www.pewresearch.org/\n",
        "   + Time Period: 2011-2019\n",
        "   + Scope (if there is please specified): Americans\n",
        "   + Data Unit: Smartphone owners\n"
      ]
    },
    {
      "cell_type": "markdown",
      "metadata": {
        "id": "qufK6cVXuwP1"
      },
      "source": [
        "#### 4 Introduction of dataset\n",
        "Answer 2 questions:\n",
        "+ How many columns? Show all the column labels. ((You can use pandas.DataFrame.columns to easily show all the labels of columns.)\n",
        "    \n",
        "    There are 74 columns in the dataframe\n",
        "+ What are they refering to respectively? please write in table form (markdown syntax for drawing tables : [markdown tutorial with examples](https://guides.github.com/features/mastering-markdown/))"
      ]
    },
    {
      "cell_type": "code",
      "execution_count": 11,
      "metadata": {},
      "outputs": [
        {
          "output_type": "stream",
          "name": "stdout",
          "text": [
            "      respid  sample  comp  int_date  lang  cregion  state  density  sfips  \\\n0          4       1     1    190108     1        3     37        2  37069   \n1          7       1     1    190108     1        2     39        3  39025   \n2          9       1     1    190108     1        1     34        4  34025   \n3         10       1     1    190108     1        2     18        3  18039   \n4         11       1     1    190114     1        2     26        2  26027   \n...      ...     ...   ...       ...   ...      ...    ...      ...    ...   \n1497  300194       2     1    190203     1        4      6        2   6085   \n1498  300195       2     1    190203     1        4     53        1  53025   \n1499  300196       2     1    190204     1        1     36        5  36061   \n1500  300199       2     1    190204     1        4      6        2   6083   \n1501  300200       2     1    190205     1        3     48        2  48027   \n\n     usr  ... inc  party  partyln  hh1 hh3  ql1  ql1a qc1    weight cellweight  \n0      S  ...   3      2             2   2    1            1.143827             \n1      S  ...   8      1             2   2    1            0.611493             \n2      S  ...   7      1             2   2    1            0.424797             \n3      S  ...   6      3        2    2   2    1            1.323562             \n4      S  ...   7      3        1    2   2    1            0.639452             \n...   ..  ...  ..    ...      ...  ...  ..  ...   ...  ..       ...        ...  \n1497   S  ...   4      4        2    2   2              1  1.057235  1.4971284  \n1498   R  ...   9      9        9    5   5              1  0.736451   .6277294  \n1499   U  ...   8      4        2    5   4              1  0.622202    .465119  \n1500   S  ...  99      3        1    4   3              1  0.554921   .5756087  \n1501   U  ...   8      3        8    3   2              2  1.432665  1.0342955  \n\n[1502 rows x 74 columns]\n===Column headers below =========================================================================================================================\nIndex(['respid', 'sample', 'comp', 'int_date', 'lang', 'cregion', 'state',\n       'density', 'sfips', 'usr', 'qs1', 'sex', 'eminuse', 'intmob', 'intfreq',\n       'snsint2', 'home4nw', 'bbhome1', 'bbhome2', 'device1a', 'smart2', 'q20',\n       'bbsmart1', 'bbsmart2', 'bbsmart3a', 'bbsmart3b', 'bbsmart3c',\n       'bbsmart3d', 'bbsmart3e', 'bbsmart3f', 'bbsmart3foe@', 'bbsmart4',\n       'web1a', 'web1b', 'web1c', 'web1d', 'web1e', 'web1f', 'web1g', 'web1h',\n       'web1i', 'sns2a', 'sns2b', 'sns2c', 'sns2d', 'sns2e', 'device1b',\n       'device1c', 'device1d', 'books1', 'books2a', 'books2b', 'books2c',\n       'age', 'marital', 'educ2', 'emplnw', 'hisp', 'racem1', 'racem2',\n       'racem3', 'racem4', 'racecmb', 'birth_hisp', 'inc', 'party', 'partyln',\n       'hh1', 'hh3', 'ql1', 'ql1a', 'qc1', 'weight', 'cellweight'],\n      dtype='object')\n"
          ]
        }
      ],
      "source": [
        "import pandas as pd\n",
        "\n",
        "columns = pd.read_csv(r'C:\\Users\\Ricky\\Desktop\\CSE487\\CSE487Stocks\\data\\data1.csv')\n",
        "print(columns)\n",
        "print(\"===Column headers below =========================================================================================================================\")\n",
        "print(columns.keys())"
      ]
    },
    {
      "source": [
        "#### 5 Hypothesis and conclusion\n",
        "What hypothesis or conclusion do you want to study from the data?  (Remember this relative to your future phases of task)\n"
      ],
      "cell_type": "code",
      "metadata": {
        "id": "iEmT1NQJuzf9"
      },
      "execution_count": 8,
      "outputs": [
        {
          "output_type": "error",
          "ename": "SyntaxError",
          "evalue": "invalid syntax (<ipython-input-8-29c69476e201>, line 2)",
          "traceback": [
            "\u001b[1;36m  File \u001b[1;32m\"<ipython-input-8-29c69476e201>\"\u001b[1;36m, line \u001b[1;32m2\u001b[0m\n\u001b[1;33m    What hypothesis or conclusion do you want to study from the data?  (Remember this relative to your future phases of task)\u001b[0m\n\u001b[1;37m         ^\u001b[0m\n\u001b[1;31mSyntaxError\u001b[0m\u001b[1;31m:\u001b[0m invalid syntax\n"
          ]
        }
      ]
    },
    {
      "cell_type": "markdown",
      "metadata": {
        "id": "fRUoPbAyu2YV"
      },
      "source": [
        "#### 6 Write codes to load the data \n",
        "(recommend: pandas package: 10 mins tutorial: [10 mins tutorial](https://pandas.pydata.org/pandas-docs/stable/user_guide/10min.html#min) )"
      ]
    },
    {
      "cell_type": "markdown",
      "metadata": {
        "id": "pZhUDBoFu58q"
      },
      "source": [
        "#### 7 IDA (Initial Data Analysis) \n",
        "[reference to do IDA](https://www.sciencedirect.com/science/article/pii/S0022522315017948)  \\\\\n",
        "Please specify what you've done (text and code) for each operation (at least 10 operations). If some steps will produce a picture, please show this picture\n"
      ]
    },
    {
      "cell_type": "markdown",
      "metadata": {
        "id": "4ngFlilwu8RO"
      },
      "source": [
        "##### 1"
      ]
    },
    {
      "cell_type": "code",
      "metadata": {
        "id": "nK6TznoEvC_k"
      },
      "source": [
        "# code"
      ],
      "execution_count": null,
      "outputs": []
    },
    {
      "cell_type": "markdown",
      "metadata": {
        "id": "nQyLIVILvGPR"
      },
      "source": [
        "#### 2"
      ]
    },
    {
      "cell_type": "code",
      "metadata": {
        "id": "tPRrnRtavIBk"
      },
      "source": [
        "# code\n"
      ],
      "execution_count": null,
      "outputs": []
    },
    {
      "cell_type": "markdown",
      "metadata": {
        "id": "-7Hf_rtIvJmr"
      },
      "source": [
        "#### 3"
      ]
    },
    {
      "cell_type": "code",
      "metadata": {
        "id": "5u-Z5UNQvKof"
      },
      "source": [
        "# code"
      ],
      "execution_count": null,
      "outputs": []
    },
    {
      "cell_type": "markdown",
      "metadata": {
        "id": "iSgC-KbwvMOn"
      },
      "source": [
        "#### 4"
      ]
    },
    {
      "cell_type": "code",
      "metadata": {
        "id": "Sjmp3Xq6vOa3"
      },
      "source": [
        "# code"
      ],
      "execution_count": null,
      "outputs": []
    },
    {
      "cell_type": "markdown",
      "metadata": {
        "id": "eOM-ypmgvPnU"
      },
      "source": [
        "#### 5"
      ]
    },
    {
      "cell_type": "code",
      "metadata": {
        "id": "eLQQUYlyvROd"
      },
      "source": [
        "# code"
      ],
      "execution_count": null,
      "outputs": []
    },
    {
      "cell_type": "markdown",
      "metadata": {
        "id": "qHgqrXBOvSUW"
      },
      "source": [
        "#### 6"
      ]
    },
    {
      "cell_type": "code",
      "metadata": {
        "id": "eIgTXat0vT6r"
      },
      "source": [
        "# code"
      ],
      "execution_count": null,
      "outputs": []
    },
    {
      "cell_type": "markdown",
      "metadata": {
        "id": "762KLaUCvXBj"
      },
      "source": [
        "#### 7"
      ]
    },
    {
      "cell_type": "code",
      "metadata": {
        "id": "LhGcYn-vvZ6I"
      },
      "source": [
        "# code"
      ],
      "execution_count": null,
      "outputs": []
    },
    {
      "cell_type": "markdown",
      "metadata": {
        "id": "i5vFIJD3va2p"
      },
      "source": [
        "#### 8"
      ]
    },
    {
      "cell_type": "markdown",
      "metadata": {
        "id": "WPTluAKevdH7"
      },
      "source": [
        "#### 9"
      ]
    },
    {
      "cell_type": "code",
      "metadata": {
        "id": "py3OFpVivcXv"
      },
      "source": [
        "# code"
      ],
      "execution_count": null,
      "outputs": []
    },
    {
      "cell_type": "code",
      "execution_count": null,
      "metadata": {},
      "outputs": [],
      "source": []
    },
    {
      "cell_type": "code",
      "execution_count": null,
      "metadata": {},
      "outputs": [],
      "source": []
    },
    {
      "cell_type": "code",
      "execution_count": null,
      "metadata": {},
      "outputs": [],
      "source": []
    },
    {
      "cell_type": "code",
      "execution_count": null,
      "metadata": {},
      "outputs": [],
      "source": []
    },
    {
      "cell_type": "code",
      "metadata": {
        "id": "iZaebB2Dvejk"
      },
      "source": [
        "# code"
      ],
      "execution_count": null,
      "outputs": []
    },
    {
      "cell_type": "markdown",
      "metadata": {
        "id": "cBUb2I6Lvfjg"
      },
      "source": [
        "#### 10"
      ]
    },
    {
      "cell_type": "code",
      "metadata": {
        "id": "A3vS-v54vhZG"
      },
      "source": [
        "# code"
      ],
      "execution_count": null,
      "outputs": []
    },
    {
      "source": [
        "##### more"
      ],
      "cell_type": "code",
      "metadata": {
        "id": "9auudH5MviFg"
      },
      "execution_count": null,
      "outputs": []
    },
    {
      "cell_type": "markdown",
      "metadata": {
        "id": "LKHINRLLvohC"
      },
      "source": [
        "8. (option)Remeber to save your dataSet after processing for future usage:\n"
      ]
    },
    {
      "cell_type": "markdown",
      "metadata": {
        "id": "eaDWN21SvpXc"
      },
      "source": [
        "### Submission guideline:\n",
        "1. write your code and report in this notebook. \n",
        "2. save this notebook as <person1ubname_person2ubname.ipynb>.\n",
        "3. save your raw data in data folder.\n",
        "4. save the notebook file with data folder in a folder named <Jiayi_person1ubname_person2ubname.zip> or <Ping_person1ubname_person2ubname.zip> or <Chen_person1ubname_person2ubname.zip> depended on which TA you have choosed. \n",
        "5. upload your zip file to timberlake server."
      ]
    },
    {
      "cell_type": "markdown",
      "metadata": {
        "id": "EKhTnH90vyGU"
      },
      "source": [
        "### Grading:\n",
        "    0 – no submission by deadline\n",
        "    15 – completed submission with all the requirements\n",
        "    10 – there are missing items, or unsatisfactory in some respects\n",
        "    5 – submission present but many required items missing or code not working\n",
        "    \n",
        "Once the deadline is past, you get a zero for the phase if you did not submit anything, even though you need to complete the phase to work on the next phase.\n"
      ]
    },
    {
      "cell_type": "markdown",
      "metadata": {
        "id": "dFA49ew2vtR5"
      },
      "source": [
        "### Example Answer\n",
        "(I am using the dataset from https://www.kaggle.com/gpreda/covid-world-vaccination-progress to provide a sample answer )\n",
        "\n",
        "1. Source of Data: https://ourworldindata.org/\n",
        "2. Give a name to your dataset: COVID-19 WVP (World Vaccination Progress)\n",
        "3. Background:\n",
        "   + Data were collected by Our World in Data\n",
        "   + Time Period: 2020-2021\n",
        "   + Scope (if there is please specified): Global\n",
        "   + Data Unit: Individual country\n"
      ]
    },
    {
      "cell_type": "markdown",
      "metadata": {
        "id": "JFkWb7Mlv-Mn"
      },
      "source": [
        "|Column label|description|\n",
        "|-|-|\n",
        "| Country | this is the country for which the vaccination information is provided |\n",
        "| Country ISO Code | ISO code for the country|\n",
        "|Date | date for the data entry; for some of the dates we have only the daily vaccinations, for others, only the (cumulative) total|\n",
        "|Total number of vaccinations| this is the absolute number of total immunizations in the country |\n",
        "|Total number of people vaccinated| a person, depending on the immunization scheme, will receive one or more (typically 2) vaccines; at a certain moment, the number of vaccination might be larger than the number of people|\n",
        "|Total number of people fully vaccinated| the number of people that received the entire set of immunization according to the immunization scheme (typically 2); at a certain moment in time, there might be a certain number of people that received one vaccine and another number (smaller) of people that received all vaccines in the scheme|\n",
        "|Daily vaccinations (raw) | for a certain data entry, the number of vaccination for that date/country|\n",
        "|Daily vaccinations | for a certain data entry, the number of vaccination for that date/country|\n",
        "|Total vaccinations per hundred| ratio (in percent) between vaccination number and total population up to the date in the country|\n",
        "|Total number of people vaccinated per hundred | ratio (in percent) between population immunized and total population up to the date in the country|\n",
        "|Total number of people fully vaccinated per hundred |ratio (in percent) between population fully immunized and total population up to the date in the country|\n",
        "|Number of vaccinations per day | number of daily vaccination for that day and country|\n",
        "|Daily vaccinations per million | ratio (in ppm) between vaccination number and total population for the current date in the country|\n",
        "|Vaccines used in the country | total number of vaccines used in the country (up to date)|\n",
        "|Source name | source of the information (national authority, international organization, local organization etc.)|\n",
        "|Source website | website of the source of information|"
      ]
    },
    {
      "cell_type": "markdown",
      "metadata": {
        "id": "QAT7me0Lv7VG"
      },
      "source": [
        "4. Introduction of dataset: Answer 2 questions:\n",
        "+ How many columns? Show all the column labels. ((You can use pandas.DataFrame.columns to easily show all the labels of columns.)\n",
        "+ What are they refering to respectively? please write in table form (markdown syntax for drawing tables : [markdown tutorial with examples](https://guides.github.com/features/mastering-markdown/))"
      ]
    },
    {
      "cell_type": "markdown",
      "metadata": {
        "id": "Sh89X2GrwAsJ"
      },
      "source": [
        "5. What hypothesis or conclusion do you want to study from the data?  (Remember this relative to your future phases of task)\\\\\n",
        "The relation between time with respect to increaseing of vaccinated people per day is decreasing negative exponetially (You don't need to be too specific on the hypothesis, something vague is fine. But the hypothesis mustn't be too obvious to analysis, e.g. find the country with largest vaccinated people ). \\\\"
      ]
    },
    {
      "cell_type": "markdown",
      "metadata": {
        "id": "7y9jxRMXwDe2"
      },
      "source": [
        "6. Write codes to load the data (recommend: pandas package) save your data in your google drive \"./data\" folder"
      ]
    },
    {
      "cell_type": "code",
      "metadata": {
        "colab": {
          "base_uri": "https://localhost:8080/",
          "height": 392
        },
        "id": "kizngdmFwHQb",
        "outputId": "684fec4e-8929-4cf5-f4af-3a7b12c6f987"
      },
      "source": [
        "import pandas as pd\n",
        "from google.colab import files\n",
        "from google.colab import drive\n",
        "drive.mount('/content/drive')\n",
        "\n",
        "df = pd.read_csv(\"/content/drive/My Drive/data/test.csv\")"
      ],
      "execution_count": null,
      "outputs": []
    },
    {
      "cell_type": "markdown",
      "metadata": {
        "id": "ES9tVum0wPvu"
      },
      "source": [
        "7. IDA (Initial Data Analysis)"
      ]
    },
    {
      "cell_type": "markdown",
      "metadata": {
        "id": "tJ5HmBT1wS1h"
      },
      "source": [
        "Statement: I want to take a look at the brief description of data\n",
        "\n",
        "\n",
        "\n",
        "```\n",
        "df.describe()\n",
        "```\n"
      ]
    },
    {
      "cell_type": "markdown",
      "metadata": {
        "id": "Ed9243e9wWD4"
      },
      "source": [
        "8. (option)Remeber to save your dataSet after processing for future usage:\n"
      ]
    },
    {
      "cell_type": "code",
      "metadata": {
        "id": "XeTdT_izwYAv"
      },
      "source": [
        "df.to_csv(index=False) # for example"
      ],
      "execution_count": null,
      "outputs": []
    }
  ]
}