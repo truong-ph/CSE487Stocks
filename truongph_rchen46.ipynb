{
  "nbformat": 4,
  "nbformat_minor": 0,
  "metadata": {
    "colab": {
      "name": "phase2.ipynb",
      "provenance": [],
      "collapsed_sections": [],
      "toc_visible": true
    },
    "kernelspec": {
      "name": "python3",
      "display_name": "Python 3"
    }
  },
  "cells": [
    {
      "cell_type": "markdown",
      "metadata": {
        "id": "9FIZCSqVuWSb"
      },
      "source": [
        "## Phase 3"
      ]
    },
    {
      "cell_type": "markdown",
      "metadata": {
        "id": "976IIwdyuhSk"
      },
      "source": [
        "### Header\n",
        "#### Course Name: CSE487\n",
        "#### Project name: Core Trends Analysis\n",
        "#### Name of group member: Truong Pham, Ricky Chen"
      ]
    },
    {
      "cell_type": "markdown",
      "metadata": {
        "id": "WlFNyBSWukkE"
      },
      "source": [
        "### Q Write down the following information: \n",
        "#### 1. Problem Statement: \n",
        "Our goal is to research and find correlations between modern day technology users and their demographics. Our project focuses on understanding the current patterns that different groups tend to follow. This is an important issue because it shows what interests the younger and older generations are looking towards. This will help companies decide what they should focus on building towards because groups tend to follow trends. If people follow trends and companies develop products and ideas of those trends they will be able to exponentially grow their companie with their product and ideas."
      ]
    },
    {
      "cell_type": "markdown",
      "metadata": {
        "id": "0GVyBWN0utp5"
      },
      "source": [
        "#### 2. Hypothesis:\n",
        "    + Model data based on age, race and sex/gender \n",
        "    + Find Trends in social media\n",
        "    + Hypothesize there will be significant group that companies will be able to correlate their business with"
      ]
    },
    {
      "cell_type": "markdown",
      "metadata": {
        "id": "qufK6cVXuwP1"
      },
      "source": [
        "#### 3 Cleaned Datasets\n",
        "Display the cleaned dataset after phase 1\n"
      ]
    },
    {
      "cell_type": "code",
      "metadata": {
        "id": "cY0MZsUmASEn"
      },
      "source": [
        "# import your cleaned dataset\n",
        "import numpy as np\n",
        "import pandas as pd\n",
        "import matplotlib.pyplot as plt\n",
        "df = pd.read_csv(\"data/Phase_1_data\", header=0)\n",
        "print(df.head(5))"
      ],
      "execution_count": null,
      "outputs": []
    },
    {
      "cell_type": "markdown",
      "metadata": {
        "id": "pZhUDBoFu58q"
      },
      "source": [
        "#### 4 Modeling  \n",
        "Please take a look at https://scikit-learn.org/stable/. First of all, understand what is the problem of your research such as classification problem, regression problem, clustering problem...... Then choose your algorithm. For each algorithm, you need to answer the following 5 questions. We give the example answer in section 6. "
      ]
    },
    {
      "cell_type": "markdown",
      "metadata": {
        "id": "4ngFlilwu8RO"
      },
      "source": [
        "**4.1 Method 1**\n",
        "\n",
        "#### Q: What assumptions need to be verified at this step?\n",
        "#### A: (answer here)\n",
        "#### Q: What algorithm did you choose?\n",
        "#### A: (answer here)\n",
        "#### Q: Why you choose this algorithm?\n",
        "#### A: (answer here)\n",
        "#### Q: What metric can measure the quality of your algorithm?\n",
        "#### A: (answer here)\n",
        "#### Q: What is the outcome?\n",
        "#### A: (answer here)\n",
        "#### Q: Analysis and discussion:\n",
        "#### A: (answer here)"
      ]
    },
    {
      "cell_type": "code",
      "metadata": {
        "id": "nK6TznoEvC_k"
      },
      "source": [
        "# code for modeling"
      ],
      "execution_count": null,
      "outputs": []
    },
    {
      "cell_type": "code",
      "metadata": {
        "id": "neHGO3EXBXEO"
      },
      "source": [
        "# code for visualization the outcome"
      ],
      "execution_count": null,
      "outputs": []
    },
    {
      "cell_type": "markdown",
      "metadata": {
        "id": "ql_KAEqTtiBs"
      },
      "source": [
        "**4.2 Method 2**\n",
        "\n",
        "#### Q: What assumptions need to be verified at this step?\n",
        "#### A: (answer here)\n",
        "#### Q: What algorithm did you choose?\n",
        "#### A: (answer here)\n",
        "#### Q: Why you choose this algorithm?\n",
        "#### A: (answer here)\n",
        "#### Q: What metric can measure the quality of your algorithm?\n",
        "#### A: (answer here)\n",
        "#### Q: What is the outcome?\n",
        "#### A: (answer here)\n",
        "#### Q: Analysis and discussion:\n",
        "#### A: (answer here)"
      ]
    },
    {
      "cell_type": "code",
      "metadata": {
        "id": "-IsCYINhtwQO"
      },
      "source": [
        "# code for modeling"
      ],
      "execution_count": null,
      "outputs": []
    },
    {
      "cell_type": "code",
      "metadata": {
        "id": "3jC-KRd-t1ti"
      },
      "source": [
        "# code for visualization the outcome"
      ],
      "execution_count": null,
      "outputs": []
    },
    {
      "cell_type": "markdown",
      "metadata": {
        "id": "HMl3vOCRtljB"
      },
      "source": [
        "**4.3 Method 3**\n",
        "\n",
        "#### Q: What assumptions need to be verified at this step?\n",
        "#### A: We need to assume that the frequency of internet use and race are correlated. I assume that there will be certain clusters at different frequencies for different races.\n",
        "#### Q: What algorithm did you choose?\n",
        "#### A: DBSCAN algorithm.\n",
        "#### Q: Why you choose this algorithm?\n",
        "#### A: I used this algorithm because I wanted to find the correlation between race and frequency of internet use. It is advantageous for this particular corrlation set because I assume that there will be alot of deviations between each race and this algorithm is robust to noise.\n",
        "#### Q: What metric can measure the quality of your algorithm?\n",
        "#### A: The amount of clusters created can be used to measure the qwality of the algorithm. If the algorithhm generates no clusters, then there is no correlation whereas if there is a cluster for each age group, we can see that there is a correlation between internet usage and race.\n",
        "#### Q: What is the outcome?\n",
        "#### A: (answer here)\n",
        "#### Q: Analysis and discussion:\n",
        "#### A: (answer here)"
      ]
    },
    {
      "cell_type": "code",
      "metadata": {
        "id": "zIGftMSUtxD1"
      },
      "source": [
        "# code for modeling"
      ],
      "execution_count": null,
      "outputs": []
    },
    {
      "cell_type": "code",
      "metadata": {
        "id": "aPAZJ6Mzt2nH"
      },
      "source": [
        "# code for visualization the outcome"
      ],
      "execution_count": null,
      "outputs": []
    },
    {
      "cell_type": "markdown",
      "metadata": {
        "id": "7ko5-Ppdto57"
      },
      "source": [
        "**4.4 Method 4**\n",
        "\n",
        "#### Q: What assumptions need to be verified at this step?\n",
        "#### A: (answer here)\n",
        "#### Q: What algorithm did you choose?\n",
        "#### A: (answer here)\n",
        "#### Q: Why you choose this algorithm?\n",
        "#### A: (answer here) correlation between sex and social media used RIDGE knn\n",
        "#### Q: What metric can measure the quality of your algorithm?\n",
        "#### A: (answer here)\n",
        "#### Q: What is the outcome?\n",
        "#### A: (answer here)\n",
        "#### Q: Analysis and discussion:\n",
        "#### A: (answer here)"
      ]
    },
    {
      "cell_type": "code",
      "metadata": {
        "id": "hsVqVTXKtx59"
      },
      "source": [
        "# code for modeling"
      ],
      "execution_count": null,
      "outputs": []
    },
    {
      "cell_type": "code",
      "metadata": {
        "id": "6ETWy7Smt3gv"
      },
      "source": [
        "# code for visualization the outcome"
      ],
      "execution_count": null,
      "outputs": []
    },
    {
      "cell_type": "markdown",
      "metadata": {
        "id": "CxWwTh_HtroT"
      },
      "source": [
        "**4.5 Method 5**\n",
        "\n",
        "#### Q: What assumptions need to be verified at this step?\n",
        "#### A: (answer here)\n",
        "#### Q: What algorithm did you choose?\n",
        "#### A: (answer here)\n",
        "#### Q: Why you choose this algorithm?\n",
        "#### A: (answer here) correlation between income and social media used bayes\n",
        "#### Q: What metric can measure the quality of your algorithm?\n",
        "#### A: (answer here)\n",
        "#### Q: What is the outcome?\n",
        "#### A: (answer here)\n",
        "#### Q: Analysis and discussion:\n",
        "#### A: (answer here)"
      ]
    },
    {
      "cell_type": "code",
      "metadata": {
        "id": "8zGSWLS_tyvl"
      },
      "source": [
        "# code for modeling"
      ],
      "execution_count": null,
      "outputs": []
    },
    {
      "cell_type": "code",
      "metadata": {
        "id": "-reZJ0Odt4dz"
      },
      "source": [
        "# code for visualization the outcome"
      ],
      "execution_count": null,
      "outputs": []
    },
    {
      "cell_type": "markdown",
      "metadata": {
        "id": "DgimEClb0zWP"
      },
      "source": [
        "#### 5 Each person contribution\n",
        "(for example, person 1 implemented first algorithm and person 2 helped to analysis the first algorithm ....) "
      ]
    },
    {
      "cell_type": "markdown",
      "metadata": {
        "id": "YYeRORfhuYIu"
      },
      "source": [
        "#### 6 Example\n",
        "\n",
        "#### Q: What assumptions need to be verified at this step?\n",
        "#### A: A Hospital Care chain wants to open a series of Emergency-Care wards within a region. We assume that the hospital knows the location of all the maximum accident-prone areas in the region. They have to decide the number of the Emergency Units to be opened and the location of these Emergency Units, so that all the accident-prone areas are covered in the vicinity of these Emergency Units. We want to help to decide the location of these Emergency Units so that the whole region is covered.\n",
        "#### Q: What algorithm did you choose?\n",
        "#### A: k-means\n",
        "#### Q: Why you choose this algorithm?\n",
        "#### A: After observing the data, we don't know how many locations there are, and we don't have labelled ground truth data. So we need a clustering algorithm. Kmeans clustering is one of the most popular clustering algorithms and usually the first thing practitioners apply when solving clustering tasks to get an idea of the structure of the dataset. Therefore, we choose k-means algorithm. **I already have completed PCA to map my data to 2 dimension for k-means algorithm.**\n",
        "#### Q: What metric can measure the quality of your algorithm?\n",
        "#### A: I would use Percentage of Variance Explained (PVE) to evaluate clustering algorithm.\n",
        "#### Q: What is the outcome?\n",
        "#### A: I divided my data into train dataset (contains 90% of data) and test dataset (contains 10% of data). I used the test data to evaluate the outcome of k-means algorithm. In the cluster-predict methodology, we can evaluate how well the models are performing based on different K clusters since clusters are used in the downstream modeling. I will use Elbow method and Silhouette analysis for evaluation.\n",
        "+ Elbow method:\n",
        "We use elbow method to check the k we choose.\n",
        "The following figure shows the result: ...\n",
        "+ Silhouette analysis: ...\n",
        "\n",
        "#### Q: Analysis and discussion:\n",
        "#### A: Accoridng the visualization of clustered data, we could conclude the location of these Emergency Units, which shows in the following image. ......"
      ]
    },
    {
      "cell_type": "markdown",
      "metadata": {
        "id": "eaDWN21SvpXc"
      },
      "source": [
        "### Submission guideline:\n",
        "1. write your code and report in this notebook. \n",
        "2. save this notebook as <person1ubname_person2ubname.ipynb>.\n",
        "3. save your raw data in data folder.\n",
        "4. save the notebook file with data folder in a folder named <person1ubname_person2ubname.zip>. \n",
        "5. upload your zip file to the ub learns.\n",
        "\n",
        "**Each person from a team needs to make submissions.**"
      ]
    },
    {
      "cell_type": "markdown",
      "metadata": {
        "id": "EKhTnH90vyGU"
      },
      "source": [
        "### Grading:\n",
        "    0 – no submission by deadline;\n",
        "    5 – complete 1 algorithm with complete analysis and discussion;\n",
        "    10 – complete 2-3 algorithms with complete analysis and discussion;\n",
        "    15 – complete 4 algorithms with complete analysis and discussion;\n",
        "    20 - complete 5 algorithms with complete analysis and discussion, however, the report is the best when compared with other teams;\n",
        "    25 - the whole process is prefect;\n",
        "    \n",
        "The submission deadline is **March 21 on 11:59:00 PM**. (Note 11:59:01 PM will be counted as late submission). Once the deadline is past, you get a zero for the phase if you did not submit anything, even though you need to complete the phase to work on the next phase.\n"
      ]
    }
  ]
}