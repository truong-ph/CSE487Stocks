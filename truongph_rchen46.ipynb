{
  "nbformat": 4,
  "nbformat_minor": 0,
  "metadata": {
    "colab": {
      "name": "Copy of phase1.ipynb",
      "provenance": [],
      "collapsed_sections": [],
      "toc_visible": true
    },
    "kernelspec": {
      "name": "python3",
      "display_name": "Python 3.9.1 64-bit",
      "metadata": {
        "interpreter": {
          "hash": "2c4241e12d7f2613767101f3d90e6aa3af51a27f6c22edec113be36d22047516"
        }
      }
    }
  },
  "cells": [
    {
      "cell_type": "markdown",
      "metadata": {
        "id": "9FIZCSqVuWSb"
      },
      "source": [
        "## Phase 1"
      ]
    },
    {
      "cell_type": "markdown",
      "metadata": {
        "id": "976IIwdyuhSk"
      },
      "source": [
        "### Header\n",
        "#### Course Name: CSE487\n",
        "#### phase #: 1\n",
        "#### term project name: Core Trends Analysis\n"
      ]
    },
    {
      "cell_type": "markdown",
      "metadata": {
        "id": "WlFNyBSWukkE"
      },
      "source": [
        "### Q Write down the following information: \n",
        "#### 1. Identify problems prevalent in public application domains. The issue(s) you are trying to address: This will be a 100-word abstract in the form of a problem statement.: \n",
        "    \n",
        "Our goal is to research and find correlations between modern day technology users and their demographics. Our project focuses on understanding the current patterns that different groups tend to follow. This is an important issue because it shows what interests the younger and older generations are looking towards. This will help companies decide what they should focus on building towards because groups tend to follow trends. If people follow trends and companies develop products and ideas of those trends they will be able to exponentially grow their companie with their product and ideas.\n",
        "\n",
        "Data Sources: https://www.pewresearch.org/"
      ]
    },
    {
      "cell_type": "markdown",
      "metadata": {
        "id": "Fz4y43obuocl"
      },
      "source": [
        "#### 2. Name of your data: Core Trends Analysis"
      ]
    },
    {
      "cell_type": "markdown",
      "metadata": {
        "id": "0GVyBWN0utp5"
      },
      "source": [
        "#### 3. Background:\n",
        "   + Source: https://www.pewresearch.org/\n",
        "   + Time Period: 2011-2019\n",
        "   + Scope (if there is please specified): Americans\n",
        "   + Data Unit: Smartphone owners\n"
      ]
    },
    {
      "cell_type": "markdown",
      "metadata": {
        "id": "qufK6cVXuwP1"
      },
      "source": [
        "#### 4 Introduction of dataset\n",
        "Answer 2 questions:\n",
        "+ How many columns? Show all the column labels. ((You can use pandas.DataFrame.columns to easily show all the labels of columns.)\n",
        "    \n",
        "    There are 74 columns in the dataframe\n",
        "+ What are they refering to respectively? please write in table form (markdown syntax for drawing tables : [markdown tutorial with examples](https://guides.github.com/features/mastering-markdown/))"
      ]
    },
    {
      "source": [
        "Column Header | Description\n",
        "------------ | -------------\n",
        "respid | This is the response id which simply is used to identify each response.\n",
        "sample | This is the sample group that this response belongs to.\n",
        "comp | This is whether or not the survey is complete.\n",
        "int_date | This is the day the survey was taken.\n",
        "lang | This is the language the survey was given in.\n",
        "cregion | This is the region the survey participant was in.\n",
        "state | This is the state the survey participant was in.\n",
        "density | This is the county-level population density of the participant.\n",
        "sfips | This is the state the survey participant was in.\n",
        "usr | This is whether the participant is in an urban, suburban or rural area.\n",
        "qs1 | This question asks whether the participant is under or over 18 years old.\n",
        "sex | This asks for the participant's sex.\n",
        "**Question codes and their respective questions** | -------------\n",
        "eminuse | Do you use the internet or email, at least occasionally?\n",
        "intmob | Do you access the internet on a cell phone, tablet or other mobile handheld device, at least occasionally?\n",
        "intfreq | About how often do you use the internet?\n",
        "snsint2 | Do you ever use social media sites like Facebook, Twitter or Instagram?\n",
        "home4nw | Do you currently subscribe to internet service at HOME?\n",
        "bbhome1 | Do you subscribe to dial-up internet service at home... OR do you subscribe to a higher-speed broadband service such as DSL, cable, or fiber optic service? \n",
        "bbhome2 | Just to confirm, you use a dial-up connection to the internet at home, and not a higher-speed broadband connection? \n",
        "device1a | Next, do you have a cell phone, or not?\n",
        "smart2 | Is your cell phone a smartphone, or not?\n",
        "q20 | Overall, when you use the internet, do you do that mostly using your cell phone or mostly using some other device like a desktop, laptop or tablet computer? \n",
        "bbsmart1 | You said that you do not have high-speed internet service at home. Did you EVER at some point in the past have a broadband internet subscription at home?\n",
        "bbsmart2 | Would you like to have high-speed internet at home , or is that not something you're interested in?\n",
        "**Please tell me whether any of the following are reasons why you do not have high-speed internet at home.** | -------------\n",
        "bbsmart3a | The monthly cost of a home broadband subscription is too expensive\n",
        "bbsmart3b | The cost of a computer is too expensive\n",
        "bbsmart3c | Your smartphone lets you do everything online that you need to do\n",
        "bbsmart3d | You have other options for internet access outside of your home\n",
        "bbsmart3e | Broadband service is not available where you live, or is not available at an acceptable speed\n",
        "bbsmart3f | Some other reason I haven’t already mentioned\n",
        "bbsmart3foe@ | Some other reason I haven’t already mentioned (SPECIFY)\n",
        "bbsmart4 | Thinking of the reasons why you do not have broadband service at home, which of them is the MOST important?\n",
        "**Please tell me if you ever use any of the following social media sites. Do you ever use...** | -------------\n",
        "web1a | Twitter\n",
        "web1b | Instagram\n",
        "web1c | Facebook\n",
        "web1d | Snapchat\n",
        "web1e | YouTube\n",
        "web1f | WhatsApp\n",
        "web1g | Pinterest\n",
        "web1h | LinkedIn\n",
        "web1i | Reddit\n",
        "**Thinking about the social media sites you use... About how often do you visit or use ** | -------------\n",
        "sns2a | Twitter\n",
        "sns2b | Instagram\n",
        "sns2c | Facebook\n",
        "sns2d | Snapchat\n",
        "sns2e | YouTube\n",
        "**Please tell me if you happen to have each of the following items, or not. Do you have...?** | -------------\n",
        "device1b | A tablet computer \n",
        "device1c | A desktop or laptop computer \n",
        "device1d | A game console \n",
        "books1 | During the past 12 months, about how many BOOKS did you read either all or part of the way through? Please include any print, electronic, or audiobooks you may have read or listened to.\n",
        "**Thinking about all of the books you have read in the past 12 months, were any of those... ** | -------------\n",
        "books2a | Printed books\n",
        "books2b | Audiobooks\n",
        "books2c | E-books\n",
        "age | This asks for the participant's age.\n",
        "marital | This asks for the participant's marital status.\n",
        "educ2 | This asks for the participant's highest level of education.\n",
        "emplnw | This asks for the participant's employment status.\n",
        "hisp | This asks if the participant is hispanic.\n",
        "racem1 | This asks for the participant's race.\n",
        "racem2 | This asks for the participant's race. (If more than one)\n",
        "racem3 | This asks for the participant's race. (If more than two)\n",
        "racem4 | This asks for the participant's race. (If more than three)\n",
        "racecmb | This asks for the participant's race if not their race is not included.\n",
        "birth_hisp | This asks for the participant's place of birth.\n",
        "inc | This asks for the participant's total family income.\n",
        "party | This asks for the participant's political party.\n",
        "partyln | This asks for the participant's political leaning.\n",
        "hh1 | This asks for the participant's household size.\n",
        "hh3 | This asks for the participant's house adult count.\n",
        "ql1 | Do you have a working cell phone?\n",
        "ql1a | Does anyone in your household have a working cell phone?\n",
        "qc1 | Now thinking about your telephone use… Is there at least one telephone INSIDE your home that is currently working and is not a cell phone?\n",
        "weight | This determines how much this response is weighed with respect to their demographics and additional calculations to reduce bias.\n",
        "cellweight | This weighs their response based on if they have a cell phone or landline or both."
      ],
      "cell_type": "markdown",
      "metadata": {}
    },
    {
      "source": [
        "#### 5 Hypothesis and conclusion\n",
        "+ What hypothesis or conclusion do you want to study from the data?  (Remember this relative to your future phases of task):\n",
        "    \n",
        "    + Model data based on age, race and sex/gender \n",
        "    + Find Trends in social media\n",
        "    + Hypothesize there will be significant group that companies will be able to correlate their business with"
      ],
      "cell_type": "markdown",
      "metadata": {
        "id": "iEmT1NQJuzf9"
      }
    },
    {
      "cell_type": "markdown",
      "metadata": {
        "id": "fRUoPbAyu2YV"
      },
      "source": [
        "#### 6 Write codes to load the data \n",
        "(recommend: pandas package: 10 mins tutorial: [10 mins tutorial](https://pandas.pydata.org/pandas-docs/stable/user_guide/10min.html#min) )"
      ]
    },
    {
      "cell_type": "code",
      "execution_count": 3,
      "metadata": {},
      "outputs": [],
      "source": [
        "import numpy as np\n",
        "import pandas as pd\n",
        "\n",
        "df = pd.read_csv('data/January 8-February 7, 2019 - Core Trends Survey - CSV.csv', header=0)"
      ]
    },
    {
      "source": [
        "#### 7 IDA (Initial Data Analysis) \n",
        "[reference to do IDA](https://www.sciencedirect.com/science/article/pii/S0022522315017948)  \\\\\n",
        "Please specify what you've done (text and code) for each operation (at least 10 operations). If some steps will produce a picture, please show this picture\n"
      ],
      "cell_type": "markdown",
      "metadata": {
        "id": "pZhUDBoFu58q"
      }
    },
    {
      "cell_type": "markdown",
      "metadata": {
        "id": "4ngFlilwu8RO"
      },
      "source": [
        "##### 1\n",
        "I want to reset the respid column and in place add values 1-(row numbers) corresponding to the correct respid"
      ]
    },
    {
      "cell_type": "code",
      "metadata": {
        "id": "nK6TznoEvC_k",
        "tags": []
      },
      "source": [
        "# code\n",
        "for x in range(len(df)):\n",
        "    df.loc[x,'respid'] = x"
      ],
      "execution_count": 4,
      "outputs": []
    },
    {
      "cell_type": "markdown",
      "metadata": {
        "id": "nQyLIVILvGPR"
      },
      "source": [
        "#### 2\n",
        "I want to get rid of the bbsmart3foe@ column because it specifies other reasons why users don't have internet and is not really helpful as the information is in text and needs much work to be formatted. The bbsmart3f column already has enough details and bbsmart3foe@ is unhelpful."
      ]
    },
    {
      "cell_type": "code",
      "metadata": {
        "id": "tPRrnRtavIBk",
        "tags": []
      },
      "source": [
        "# code\n",
        "df = df.drop('bbsmart3foe@',1)\n",
        "df = df.drop('ql1a',1)\n",
        "df = df.drop('usr',1)\n"
      ],
      "execution_count": 5,
      "outputs": []
    },
    {
      "cell_type": "markdown",
      "metadata": {
        "id": "-7Hf_rtIvJmr"
      },
      "source": [
        "#### 3\n",
        "I want to reformat the int_date column into a date format."
      ]
    },
    {
      "cell_type": "code",
      "metadata": {
        "id": "5u-Z5UNQvKof",
        "tags": []
      },
      "source": [
        "# code\n",
        "df['int_date'] = pd.to_datetime(df['int_date'], format='%y%m%d')\n"
      ],
      "execution_count": 6,
      "outputs": []
    },
    {
      "cell_type": "markdown",
      "metadata": {
        "id": "iSgC-KbwvMOn"
      },
      "source": [
        "#### 4\n",
        "I want to use the comp column to check for complete responses and filter the data."
      ]
    },
    {
      "cell_type": "code",
      "metadata": {
        "id": "Sjmp3Xq6vOa3"
      },
      "source": [
        "# code\n",
        "df = df[df.comp != 0]\n"
      ],
      "execution_count": 7,
      "outputs": []
    },
    {
      "cell_type": "markdown",
      "metadata": {
        "id": "eOM-ypmgvPnU"
      },
      "source": [
        "#### 5\n",
        "I want to check for duplicate rows."
      ]
    },
    {
      "cell_type": "code",
      "metadata": {
        "id": "eLQQUYlyvROd"
      },
      "source": [
        "if(df.duplicated().any()):\n",
        "    print(df.duplicated())\n",
        "    df.drop_duplicates()\n",
        "else:\n",
        "    print(\"No duplicate rows found.\")"
      ],
      "execution_count": 8,
      "outputs": [
        {
          "output_type": "stream",
          "name": "stdout",
          "text": [
            "No duplicate rows found.\n"
          ]
        }
      ]
    },
    {
      "cell_type": "markdown",
      "metadata": {
        "id": "qHgqrXBOvSUW"
      },
      "source": [
        "#### 6\n",
        "I want to check the qs1 \"Under or over 18\" question with the information in the age column."
      ]
    },
    {
      "cell_type": "code",
      "metadata": {
        "id": "eIgTXat0vT6r",
        "tags": []
      },
      "source": [
        "# code\n",
        "mask = (df['age'] >= 18)\n",
        "df['qs1'][mask] = 2\n",
        "mask = (df['age'] < 17)\n",
        "df['qs1'][mask] = 1"
      ],
      "execution_count": 9,
      "outputs": []
    },
    {
      "cell_type": "markdown",
      "metadata": {
        "id": "762KLaUCvXBj"
      },
      "source": [
        "Since pew research did not specify the weighing methodology, the weights will be redone based on sex and age using US Census data."
      ]
    },
    {
      "cell_type": "code",
      "metadata": {
        "id": "LhGcYn-vvZ6I",
        "tags": []
      },
      "source": [
        "# code\n",
        "sex = df['sex'].value_counts().tolist()\n",
        "total = sex[0]+sex[1]\n",
        "sex1 = 0.492 / (sex[0] / total)\n",
        "sex2 = 0.508 / (sex[1] / total)\n",
        "\n",
        "df['weight'][df['sex'] == 1] = sex1\n",
        "df['weight'][df['sex'] == 2] = sex2\n",
        "\n",
        "bins = [18, 25, 34, 54, 64, 100]\n",
        "age = df['age'].value_counts(bins=bins, sort=False).tolist()\n",
        "age1 = 0.114 / (age[0] / total)\n",
        "age2 = 0.164 / (age[1] / total)\n",
        "age3 = 0.334 / (age[2] / total)\n",
        "age4 = 0.172 / (age[3] / total)\n",
        "age5 = 0.216 / (age[4] / total)\n",
        "pd.set_option('display.max_rows', 1502)\n",
        "\n",
        "\n",
        "df['weight'][(df['age'] >= 18) & (df['age'] < 25)] = df['weight'][(df['age'] >= 18) & (df['age'] < 25)].apply(lambda x: x*age1)\n",
        "df['weight'][(df['age'] >= 25) & (df['age'] < 35)] = df['weight'][(df['age'] >= 25) & (df['age'] < 35)].apply(lambda x: x*age2)\n",
        "df['weight'][(df['age'] >= 35) & (df['age'] < 55)] = df['weight'][(df['age'] >= 35) & (df['age'] < 55)].apply(lambda x: x*age3)\n",
        "df['weight'][(df['age'] >= 55) & (df['age'] < 65)] = df['weight'][(df['age'] >= 55) & (df['age'] < 65)].apply(lambda x: x*age4)\n",
        "df['weight'][(df['age'] >= 65)] = df['weight'][(df['age'] >= 65)].apply(lambda x: x*age5)"
      ],
      "execution_count": 10,
      "outputs": []
    },
    {
      "cell_type": "markdown",
      "metadata": {
        "id": "i5vFIJD3va2p"
      },
      "source": [
        "#### 8\n",
        "I want to fill out the empty hh3 column using data from the age column and the hh1 column."
      ]
    },
    {
      "cell_type": "code",
      "execution_count": 11,
      "metadata": {
        "tags": []
      },
      "outputs": [],
      "source": [
        "df['hh3'][(df['age'] >= 18) & (df['hh1'] == 1) & (df['hh3'] == ' ')] = 1"
      ]
    },
    {
      "cell_type": "markdown",
      "metadata": {
        "id": "WPTluAKevdH7"
      },
      "source": [
        "#### 9\n",
        "I want to check that the web columns are non-empty."
      ]
    },
    {
      "cell_type": "code",
      "metadata": {
        "id": "py3OFpVivcXv",
        "tags": []
      },
      "source": [
        "# code\n",
        "\n",
        "if((df['web1a'] == ' ').any()):\n",
        "    df = df[~(df['web1a'] == ' ')]\n",
        "if((df['web1b'] == ' ').any()):\n",
        "    df = df[~(df['web1b'] == ' ')]\n",
        "if((df['web1c'] == ' ').any()):\n",
        "    df = df[~(df['web1c'] == ' ')]\n",
        "if((df['web1d'] == ' ').any()):\n",
        "    df = df[~(df['web1d'] == ' ')]\n",
        "if((df['web1e'] == ' ').any()):\n",
        "    df = df[~(df['web1e'] == ' ')]\n",
        "if((df['web1f'] == ' ').any()):\n",
        "    df = df[~(df['web1f'] == ' ')]\n",
        "if((df['web1g'] == ' ').any()):\n",
        "    df = df[~(df['web1g'] == ' ')]\n",
        "if((df['web1h'] == ' ').any()):\n",
        "    df = df[~(df['web1h'] == ' ')]\n",
        "if((df['web1i'] == ' ').any()):\n",
        "    df = df[~(df['web1i'] == ' ')]"
      ],
      "execution_count": 12,
      "outputs": []
    },
    {
      "cell_type": "markdown",
      "metadata": {
        "id": "cBUb2I6Lvfjg"
      },
      "source": [
        "#### 10\n",
        "I want to use column ql1 to fill out column device1a as it is incomplete then get rid of ql1 because it is a duplicate."
      ]
    },
    {
      "cell_type": "code",
      "metadata": {
        "id": "A3vS-v54vhZG",
        "tags": []
      },
      "source": [
        "# code\n",
        "df['device1a'][(df['ql1'] == ' ')] = 1\n",
        "df = df.drop('ql1', 1)"
      ],
      "execution_count": 13,
      "outputs": []
    },
    {
      "cell_type": "markdown",
      "metadata": {
        "id": "LKHINRLLvohC"
      },
      "source": [
        "#### 8. (option) Remember to save your dataSet after processing for future usage:\n"
      ]
    },
    {
      "cell_type": "code",
      "execution_count": 14,
      "metadata": {},
      "outputs": [],
      "source": [
        "df.to_csv(\"data/Phase_1_data\",index=False)"
      ]
    },
    {
      "source": [
        "# PHASE 2 EDA:\n"
      ],
      "cell_type": "markdown",
      "metadata": {}
    },
    {
      "cell_type": "code",
      "execution_count": 16,
      "metadata": {},
      "outputs": [],
      "source": [
        "import matplotlib.pyplot as plt\n",
        "df = pd.read_csv(\"data/Phase_1_data\", header=0)"
      ]
    },
    {
      "source": [
        "#### 1.\n",
        "I want to plot a histogram with the x-axis as age and y-axis as the eminuse to find internet usage patterns in adults."
      ],
      "cell_type": "markdown",
      "metadata": {}
    },
    {
      "cell_type": "code",
      "execution_count": null,
      "metadata": {},
      "outputs": [],
      "source": []
    },
    {
      "source": [
        "#### 2.\n",
        "I want to plot a mean plot with the x-axis as age and y-axis as the intfreq to determine internet usage frequency in different groups of adults."
      ],
      "cell_type": "markdown",
      "metadata": {}
    },
    {
      "cell_type": "code",
      "execution_count": null,
      "metadata": {},
      "outputs": [],
      "source": []
    },
    {
      "source": [
        "#### 3.\n",
        "For users who have access to internet, I want to plot a multi-histogram with the x-axis as the age columns and the y-columns web1 columns. \n",
        "This would help find patterns between different social media sites and age groups."
      ],
      "cell_type": "markdown",
      "metadata": {}
    },
    {
      "cell_type": "code",
      "execution_count": null,
      "metadata": {},
      "outputs": [],
      "source": []
    },
    {
      "source": [
        "#### 4.\n",
        "For users who have access to internet, I want to plot a multi-histogram with the x-axis as the race columns and the y-columns web1 columns. \n",
        "This would help find patterns between different social media sites and race groups."
      ],
      "cell_type": "markdown",
      "metadata": {}
    },
    {
      "cell_type": "code",
      "execution_count": null,
      "metadata": {},
      "outputs": [],
      "source": []
    },
    {
      "source": [
        "#### 5."
      ],
      "cell_type": "markdown",
      "metadata": {}
    },
    {
      "cell_type": "code",
      "execution_count": null,
      "metadata": {},
      "outputs": [],
      "source": []
    },
    {
      "source": [
        "#### 6."
      ],
      "cell_type": "markdown",
      "metadata": {}
    },
    {
      "cell_type": "code",
      "execution_count": null,
      "metadata": {},
      "outputs": [],
      "source": []
    },
    {
      "source": [
        "#### 7."
      ],
      "cell_type": "markdown",
      "metadata": {}
    },
    {
      "cell_type": "code",
      "execution_count": null,
      "metadata": {},
      "outputs": [],
      "source": []
    },
    {
      "source": [
        "#### 8."
      ],
      "cell_type": "markdown",
      "metadata": {}
    },
    {
      "cell_type": "code",
      "execution_count": null,
      "metadata": {},
      "outputs": [],
      "source": []
    },
    {
      "source": [
        "#### 9."
      ],
      "cell_type": "markdown",
      "metadata": {}
    },
    {
      "cell_type": "code",
      "execution_count": null,
      "metadata": {},
      "outputs": [],
      "source": []
    },
    {
      "source": [
        "#### 10."
      ],
      "cell_type": "markdown",
      "metadata": {}
    },
    {
      "cell_type": "code",
      "execution_count": null,
      "metadata": {},
      "outputs": [],
      "source": []
    }
  ]
}