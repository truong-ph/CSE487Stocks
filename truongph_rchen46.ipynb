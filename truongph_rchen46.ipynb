{
  "nbformat": 4,
  "nbformat_minor": 0,
  "metadata": {
    "colab": {
      "name": "Copy of phase1.ipynb",
      "provenance": [],
      "collapsed_sections": [],
      "toc_visible": true
    },
    "kernelspec": {
      "name": "python3",
      "display_name": "Python 3"
    }
  },
  "cells": [
    {
      "cell_type": "markdown",
      "metadata": {
        "id": "9FIZCSqVuWSb"
      },
      "source": [
        "## Phase 1"
      ]
    },
    {
      "cell_type": "markdown",
      "metadata": {
        "id": "976IIwdyuhSk"
      },
      "source": [
        "### Header\n",
        "#### Course Name: \n",
        "#### phase #: 1\n",
        "#### term project name:"
      ]
    },
    {
      "cell_type": "markdown",
      "metadata": {
        "id": "WlFNyBSWukkE"
      },
      "source": [
        "### Q Write down the following information: \n",
        "#### 1. Identify problems prevalent in public application domains. The issue(s) you are trying to address: This will be a 100-word abstract in the form of a problem statement.: \n",
        "\n"
      ]
    },
    {
      "cell_type": "markdown",
      "metadata": {
        "id": "Fz4y43obuocl"
      },
      "source": [
        "#### 2. Name of your data:"
      ]
    },
    {
      "cell_type": "markdown",
      "metadata": {
        "id": "0GVyBWN0utp5"
      },
      "source": [
        "#### 3. Background:\n",
        "   + Source: \n",
        "   + Time Period:\n",
        "   + Scope (if there is please specified): \n",
        "   + Data Unit:\n",
        "   + Other:"
      ]
    },
    {
      "cell_type": "markdown",
      "metadata": {
        "id": "qufK6cVXuwP1"
      },
      "source": [
        "#### 4 Introduction of dataset\n",
        "Answer 2 questions:\n",
        "+ How many columns? Show all the column labels. ((You can use pandas.DataFrame.columns to easily show all the labels of columns.)\n",
        "+ What are they refering to respectively? please write in table form (markdown syntax for drawing tables : [markdown tutorial with examples](https://guides.github.com/features/mastering-markdown/))"
      ]
    },
    {
      "cell_type": "markdown",
      "metadata": {
        "id": "iEmT1NQJuzf9"
      },
      "source": [
        "#### 5 Hypothesis and conclusion\n",
        " What hypothesis or conclusion do you want to study from the data?  (Remember this relative to your future phases of task)\n"
      ]
    },
    {
      "cell_type": "markdown",
      "metadata": {
        "id": "fRUoPbAyu2YV"
      },
      "source": [
        "#### 6 Write codes to load the data \n",
        "(recommend: pandas package: 10 mins tutorial: [10 mins tutorial](https://pandas.pydata.org/pandas-docs/stable/user_guide/10min.html#min) )"
      ]
    },
    {
      "cell_type": "markdown",
      "metadata": {
        "id": "pZhUDBoFu58q"
      },
      "source": [
        "#### 7 IDA (Initial Data Analysis) \n",
        "[reference to do IDA](https://www.sciencedirect.com/science/article/pii/S0022522315017948)  \\\\\n",
        "Please specify what you've done (text and code) for each operation (at least 10 operations). If some steps will produce a picture, please show this picture\n"
      ]
    },
    {
      "cell_type": "markdown",
      "metadata": {
        "id": "4ngFlilwu8RO"
      },
      "source": [
        "##### 1"
      ]
    },
    {
      "cell_type": "code",
      "metadata": {
        "id": "nK6TznoEvC_k"
      },
      "source": [
        "# code"
      ],
      "execution_count": null,
      "outputs": []
    },
    {
      "cell_type": "markdown",
      "metadata": {
        "id": "nQyLIVILvGPR"
      },
      "source": [
        "#### 2"
      ]
    },
    {
      "cell_type": "code",
      "metadata": {
        "id": "tPRrnRtavIBk"
      },
      "source": [
        "# code\n"
      ],
      "execution_count": null,
      "outputs": []
    },
    {
      "cell_type": "markdown",
      "metadata": {
        "id": "-7Hf_rtIvJmr"
      },
      "source": [
        "#### 3"
      ]
    },
    {
      "cell_type": "code",
      "metadata": {
        "id": "5u-Z5UNQvKof"
      },
      "source": [
        "# code"
      ],
      "execution_count": null,
      "outputs": []
    },
    {
      "cell_type": "markdown",
      "metadata": {
        "id": "iSgC-KbwvMOn"
      },
      "source": [
        "#### 4"
      ]
    },
    {
      "cell_type": "code",
      "metadata": {
        "id": "Sjmp3Xq6vOa3"
      },
      "source": [
        "# code"
      ],
      "execution_count": null,
      "outputs": []
    },
    {
      "cell_type": "markdown",
      "metadata": {
        "id": "eOM-ypmgvPnU"
      },
      "source": [
        "#### 5"
      ]
    },
    {
      "cell_type": "code",
      "metadata": {
        "id": "eLQQUYlyvROd"
      },
      "source": [
        "# code"
      ],
      "execution_count": null,
      "outputs": []
    },
    {
      "cell_type": "markdown",
      "metadata": {
        "id": "qHgqrXBOvSUW"
      },
      "source": [
        "#### 6"
      ]
    },
    {
      "cell_type": "code",
      "metadata": {
        "id": "eIgTXat0vT6r"
      },
      "source": [
        "# code"
      ],
      "execution_count": null,
      "outputs": []
    },
    {
      "cell_type": "markdown",
      "metadata": {
        "id": "762KLaUCvXBj"
      },
      "source": [
        "#### 7"
      ]
    },
    {
      "cell_type": "code",
      "metadata": {
        "id": "LhGcYn-vvZ6I"
      },
      "source": [
        "# code"
      ],
      "execution_count": null,
      "outputs": []
    },
    {
      "cell_type": "markdown",
      "metadata": {
        "id": "i5vFIJD3va2p"
      },
      "source": [
        "#### 8"
      ]
    },
    {
      "cell_type": "code",
      "metadata": {
        "id": "py3OFpVivcXv"
      },
      "source": [
        "# code"
      ],
      "execution_count": null,
      "outputs": []
    },
    {
      "cell_type": "markdown",
      "metadata": {
        "id": "WPTluAKevdH7"
      },
      "source": [
        "#### 9"
      ]
    },
    {
      "cell_type": "code",
      "metadata": {
        "id": "iZaebB2Dvejk"
      },
      "source": [
        "# code"
      ],
      "execution_count": null,
      "outputs": []
    },
    {
      "cell_type": "markdown",
      "metadata": {
        "id": "cBUb2I6Lvfjg"
      },
      "source": [
        "#### 10"
      ]
    },
    {
      "cell_type": "code",
      "metadata": {
        "id": "A3vS-v54vhZG"
      },
      "source": [
        "# code"
      ],
      "execution_count": null,
      "outputs": []
    },
    {
      "cell_type": "markdown",
      "metadata": {
        "id": "9auudH5MviFg"
      },
      "source": [
        "##### more"
      ]
    },
    {
      "cell_type": "markdown",
      "metadata": {
        "id": "LKHINRLLvohC"
      },
      "source": [
        "8. (option)Remeber to save your dataSet after processing for future usage:\n"
      ]
    },
    {
      "cell_type": "markdown",
      "metadata": {
        "id": "eaDWN21SvpXc"
      },
      "source": [
        "### Submission guideline:\n",
        "1. write your code and report in this notebook. \n",
        "2. save this notebook as <person1ubname_person2ubname.ipynb>.\n",
        "3. save your raw data in data folder.\n",
        "4. save the notebook file with data folder in a folder named <Jiayi_person1ubname_person2ubname.zip> or <Ping_person1ubname_person2ubname.zip> or <Chen_person1ubname_person2ubname.zip> depended on which TA you have choosed. \n",
        "5. upload your zip file to timberlake server."
      ]
    },
    {
      "cell_type": "markdown",
      "metadata": {
        "id": "EKhTnH90vyGU"
      },
      "source": [
        "### Grading:\n",
        "    0 – no submission by deadline\n",
        "    15 – completed submission with all the requirements\n",
        "    10 – there are missing items, or unsatisfactory in some respects\n",
        "    5 – submission present but many required items missing or code not working\n",
        "    \n",
        "Once the deadline is past, you get a zero for the phase if you did not submit anything, even though you need to complete the phase to work on the next phase.\n"
      ]
    },
    {
      "cell_type": "markdown",
      "metadata": {
        "id": "dFA49ew2vtR5"
      },
      "source": [
        "### Example Answer\n",
        "(I am using the dataset from https://www.kaggle.com/gpreda/covid-world-vaccination-progress to provide a sample answer )\n",
        "1. Source of Data: https://ourworldindata.org/\n",
        "2. Give a name to your dataset: COVID-19 WVP (World Vaccination Progress)\n",
        "3. Background:\n",
        "   + Data were collected by Our World in Data\n",
        "   + Time Period: 2020-2021\n",
        "   + Scope (if there is please specified): Global\n",
        "   + Data Unit: Individual country\n"
      ]
    },
    {
      "cell_type": "markdown",
      "metadata": {
        "id": "QAT7me0Lv7VG"
      },
      "source": [
        "4. Introduction of dataset: Answer 2 questions:\n",
        "+ How many columns? Show all the column labels. ((You can use pandas.DataFrame.columns to easily show all the labels of columns.)\n",
        "+ What are they refering to respectively? please write in table form (markdown syntax for drawing tables : [markdown tutorial with examples](https://guides.github.com/features/mastering-markdown/))"
      ]
    },
    {
      "cell_type": "markdown",
      "metadata": {
        "id": "JFkWb7Mlv-Mn"
      },
      "source": [
        "|Column label|description|\n",
        "|-|-|\n",
        "| Country | this is the country for which the vaccination information is provided |\n",
        "| Country ISO Code | ISO code for the country|\n",
        "|Date | date for the data entry; for some of the dates we have only the daily vaccinations, for others, only the (cumulative) total|\n",
        "|Total number of vaccinations| this is the absolute number of total immunizations in the country |\n",
        "|Total number of people vaccinated| a person, depending on the immunization scheme, will receive one or more (typically 2) vaccines; at a certain moment, the number of vaccination might be larger than the number of people|\n",
        "|Total number of people fully vaccinated| the number of people that received the entire set of immunization according to the immunization scheme (typically 2); at a certain moment in time, there might be a certain number of people that received one vaccine and another number (smaller) of people that received all vaccines in the scheme|\n",
        "|Daily vaccinations (raw) | for a certain data entry, the number of vaccination for that date/country|\n",
        "|Daily vaccinations | for a certain data entry, the number of vaccination for that date/country|\n",
        "|Total vaccinations per hundred| ratio (in percent) between vaccination number and total population up to the date in the country|\n",
        "|Total number of people vaccinated per hundred | ratio (in percent) between population immunized and total population up to the date in the country|\n",
        "|Total number of people fully vaccinated per hundred |ratio (in percent) between population fully immunized and total population up to the date in the country|\n",
        "|Number of vaccinations per day | number of daily vaccination for that day and country|\n",
        "|Daily vaccinations per million | ratio (in ppm) between vaccination number and total population for the current date in the country|\n",
        "|Vaccines used in the country | total number of vaccines used in the country (up to date)|\n",
        "|Source name | source of the information (national authority, international organization, local organization etc.)|\n",
        "|Source website | website of the source of information|"
      ]
    },
    {
      "cell_type": "markdown",
      "metadata": {
        "id": "Sh89X2GrwAsJ"
      },
      "source": [
        "5. What hypothesis or conclusion do you want to study from the data?  (Remember this relative to your future phases of task)\\\\\n",
        "The relation between time with respect to increaseing of vaccinated people per day is decreasing negative exponetially (You don't need to be too specific on the hypothesis, something vague is fine. But the hypothesis mustn't be too obvious to analysis, e.g. find the country with largest vaccinated people ). \\\\"
      ]
    },
    {
      "cell_type": "markdown",
      "metadata": {
        "id": "7y9jxRMXwDe2"
      },
      "source": [
        "6. Write codes to load the data (recommend: pandas package) save your data in your google drive \"./data\" folder"
      ]
    },
    {
      "cell_type": "code",
      "metadata": {
        "colab": {
          "base_uri": "https://localhost:8080/",
          "height": 392
        },
        "id": "kizngdmFwHQb",
        "outputId": "684fec4e-8929-4cf5-f4af-3a7b12c6f987"
      },
      "source": [
        "import pandas as pd\n",
        "from google.colab import files\n",
        "from google.colab import drive\n",
        "drive.mount('/content/drive')\n",
        "\n",
        "df = pd.read_csv(\"/content/drive/My Drive/data/test.csv\")"
      ],
      "execution_count": null,
      "outputs": [
        {
          "output_type": "error",
          "ename": "FileNotFoundError",
          "evalue": "ignored",
          "traceback": [
            "\u001b[0;31m---------------------------------------------------------------------------\u001b[0m",
            "\u001b[0;31mFileNotFoundError\u001b[0m                         Traceback (most recent call last)",
            "\u001b[0;32m<ipython-input-2-781908c635fa>\u001b[0m in \u001b[0;36m<module>\u001b[0;34m()\u001b[0m\n\u001b[1;32m      1\u001b[0m \u001b[0;32mimport\u001b[0m \u001b[0mpandas\u001b[0m \u001b[0;32mas\u001b[0m \u001b[0mpd\u001b[0m\u001b[0;34m\u001b[0m\u001b[0;34m\u001b[0m\u001b[0m\n\u001b[0;32m----> 2\u001b[0;31m \u001b[0mdf\u001b[0m \u001b[0;34m=\u001b[0m \u001b[0mpd\u001b[0m\u001b[0;34m.\u001b[0m\u001b[0mread_csv\u001b[0m\u001b[0;34m(\u001b[0m\u001b[0;34m\"/path/covid_19.csv\"\u001b[0m\u001b[0;34m)\u001b[0m\u001b[0;34m\u001b[0m\u001b[0;34m\u001b[0m\u001b[0m\n\u001b[0m",
            "\u001b[0;32m/usr/local/lib/python3.6/dist-packages/pandas/io/parsers.py\u001b[0m in \u001b[0;36mread_csv\u001b[0;34m(filepath_or_buffer, sep, delimiter, header, names, index_col, usecols, squeeze, prefix, mangle_dupe_cols, dtype, engine, converters, true_values, false_values, skipinitialspace, skiprows, skipfooter, nrows, na_values, keep_default_na, na_filter, verbose, skip_blank_lines, parse_dates, infer_datetime_format, keep_date_col, date_parser, dayfirst, cache_dates, iterator, chunksize, compression, thousands, decimal, lineterminator, quotechar, quoting, doublequote, escapechar, comment, encoding, dialect, error_bad_lines, warn_bad_lines, delim_whitespace, low_memory, memory_map, float_precision)\u001b[0m\n\u001b[1;32m    686\u001b[0m     )\n\u001b[1;32m    687\u001b[0m \u001b[0;34m\u001b[0m\u001b[0m\n\u001b[0;32m--> 688\u001b[0;31m     \u001b[0;32mreturn\u001b[0m \u001b[0m_read\u001b[0m\u001b[0;34m(\u001b[0m\u001b[0mfilepath_or_buffer\u001b[0m\u001b[0;34m,\u001b[0m \u001b[0mkwds\u001b[0m\u001b[0;34m)\u001b[0m\u001b[0;34m\u001b[0m\u001b[0;34m\u001b[0m\u001b[0m\n\u001b[0m\u001b[1;32m    689\u001b[0m \u001b[0;34m\u001b[0m\u001b[0m\n\u001b[1;32m    690\u001b[0m \u001b[0;34m\u001b[0m\u001b[0m\n",
            "\u001b[0;32m/usr/local/lib/python3.6/dist-packages/pandas/io/parsers.py\u001b[0m in \u001b[0;36m_read\u001b[0;34m(filepath_or_buffer, kwds)\u001b[0m\n\u001b[1;32m    452\u001b[0m \u001b[0;34m\u001b[0m\u001b[0m\n\u001b[1;32m    453\u001b[0m     \u001b[0;31m# Create the parser.\u001b[0m\u001b[0;34m\u001b[0m\u001b[0;34m\u001b[0m\u001b[0;34m\u001b[0m\u001b[0m\n\u001b[0;32m--> 454\u001b[0;31m     \u001b[0mparser\u001b[0m \u001b[0;34m=\u001b[0m \u001b[0mTextFileReader\u001b[0m\u001b[0;34m(\u001b[0m\u001b[0mfp_or_buf\u001b[0m\u001b[0;34m,\u001b[0m \u001b[0;34m**\u001b[0m\u001b[0mkwds\u001b[0m\u001b[0;34m)\u001b[0m\u001b[0;34m\u001b[0m\u001b[0;34m\u001b[0m\u001b[0m\n\u001b[0m\u001b[1;32m    455\u001b[0m \u001b[0;34m\u001b[0m\u001b[0m\n\u001b[1;32m    456\u001b[0m     \u001b[0;32mif\u001b[0m \u001b[0mchunksize\u001b[0m \u001b[0;32mor\u001b[0m \u001b[0miterator\u001b[0m\u001b[0;34m:\u001b[0m\u001b[0;34m\u001b[0m\u001b[0;34m\u001b[0m\u001b[0m\n",
            "\u001b[0;32m/usr/local/lib/python3.6/dist-packages/pandas/io/parsers.py\u001b[0m in \u001b[0;36m__init__\u001b[0;34m(self, f, engine, **kwds)\u001b[0m\n\u001b[1;32m    946\u001b[0m             \u001b[0mself\u001b[0m\u001b[0;34m.\u001b[0m\u001b[0moptions\u001b[0m\u001b[0;34m[\u001b[0m\u001b[0;34m\"has_index_names\"\u001b[0m\u001b[0;34m]\u001b[0m \u001b[0;34m=\u001b[0m \u001b[0mkwds\u001b[0m\u001b[0;34m[\u001b[0m\u001b[0;34m\"has_index_names\"\u001b[0m\u001b[0;34m]\u001b[0m\u001b[0;34m\u001b[0m\u001b[0;34m\u001b[0m\u001b[0m\n\u001b[1;32m    947\u001b[0m \u001b[0;34m\u001b[0m\u001b[0m\n\u001b[0;32m--> 948\u001b[0;31m         \u001b[0mself\u001b[0m\u001b[0;34m.\u001b[0m\u001b[0m_make_engine\u001b[0m\u001b[0;34m(\u001b[0m\u001b[0mself\u001b[0m\u001b[0;34m.\u001b[0m\u001b[0mengine\u001b[0m\u001b[0;34m)\u001b[0m\u001b[0;34m\u001b[0m\u001b[0;34m\u001b[0m\u001b[0m\n\u001b[0m\u001b[1;32m    949\u001b[0m \u001b[0;34m\u001b[0m\u001b[0m\n\u001b[1;32m    950\u001b[0m     \u001b[0;32mdef\u001b[0m \u001b[0mclose\u001b[0m\u001b[0;34m(\u001b[0m\u001b[0mself\u001b[0m\u001b[0;34m)\u001b[0m\u001b[0;34m:\u001b[0m\u001b[0;34m\u001b[0m\u001b[0;34m\u001b[0m\u001b[0m\n",
            "\u001b[0;32m/usr/local/lib/python3.6/dist-packages/pandas/io/parsers.py\u001b[0m in \u001b[0;36m_make_engine\u001b[0;34m(self, engine)\u001b[0m\n\u001b[1;32m   1178\u001b[0m     \u001b[0;32mdef\u001b[0m \u001b[0m_make_engine\u001b[0m\u001b[0;34m(\u001b[0m\u001b[0mself\u001b[0m\u001b[0;34m,\u001b[0m \u001b[0mengine\u001b[0m\u001b[0;34m=\u001b[0m\u001b[0;34m\"c\"\u001b[0m\u001b[0;34m)\u001b[0m\u001b[0;34m:\u001b[0m\u001b[0;34m\u001b[0m\u001b[0;34m\u001b[0m\u001b[0m\n\u001b[1;32m   1179\u001b[0m         \u001b[0;32mif\u001b[0m \u001b[0mengine\u001b[0m \u001b[0;34m==\u001b[0m \u001b[0;34m\"c\"\u001b[0m\u001b[0;34m:\u001b[0m\u001b[0;34m\u001b[0m\u001b[0;34m\u001b[0m\u001b[0m\n\u001b[0;32m-> 1180\u001b[0;31m             \u001b[0mself\u001b[0m\u001b[0;34m.\u001b[0m\u001b[0m_engine\u001b[0m \u001b[0;34m=\u001b[0m \u001b[0mCParserWrapper\u001b[0m\u001b[0;34m(\u001b[0m\u001b[0mself\u001b[0m\u001b[0;34m.\u001b[0m\u001b[0mf\u001b[0m\u001b[0;34m,\u001b[0m \u001b[0;34m**\u001b[0m\u001b[0mself\u001b[0m\u001b[0;34m.\u001b[0m\u001b[0moptions\u001b[0m\u001b[0;34m)\u001b[0m\u001b[0;34m\u001b[0m\u001b[0;34m\u001b[0m\u001b[0m\n\u001b[0m\u001b[1;32m   1181\u001b[0m         \u001b[0;32melse\u001b[0m\u001b[0;34m:\u001b[0m\u001b[0;34m\u001b[0m\u001b[0;34m\u001b[0m\u001b[0m\n\u001b[1;32m   1182\u001b[0m             \u001b[0;32mif\u001b[0m \u001b[0mengine\u001b[0m \u001b[0;34m==\u001b[0m \u001b[0;34m\"python\"\u001b[0m\u001b[0;34m:\u001b[0m\u001b[0;34m\u001b[0m\u001b[0;34m\u001b[0m\u001b[0m\n",
            "\u001b[0;32m/usr/local/lib/python3.6/dist-packages/pandas/io/parsers.py\u001b[0m in \u001b[0;36m__init__\u001b[0;34m(self, src, **kwds)\u001b[0m\n\u001b[1;32m   2008\u001b[0m         \u001b[0mkwds\u001b[0m\u001b[0;34m[\u001b[0m\u001b[0;34m\"usecols\"\u001b[0m\u001b[0;34m]\u001b[0m \u001b[0;34m=\u001b[0m \u001b[0mself\u001b[0m\u001b[0;34m.\u001b[0m\u001b[0musecols\u001b[0m\u001b[0;34m\u001b[0m\u001b[0;34m\u001b[0m\u001b[0m\n\u001b[1;32m   2009\u001b[0m \u001b[0;34m\u001b[0m\u001b[0m\n\u001b[0;32m-> 2010\u001b[0;31m         \u001b[0mself\u001b[0m\u001b[0;34m.\u001b[0m\u001b[0m_reader\u001b[0m \u001b[0;34m=\u001b[0m \u001b[0mparsers\u001b[0m\u001b[0;34m.\u001b[0m\u001b[0mTextReader\u001b[0m\u001b[0;34m(\u001b[0m\u001b[0msrc\u001b[0m\u001b[0;34m,\u001b[0m \u001b[0;34m**\u001b[0m\u001b[0mkwds\u001b[0m\u001b[0;34m)\u001b[0m\u001b[0;34m\u001b[0m\u001b[0;34m\u001b[0m\u001b[0m\n\u001b[0m\u001b[1;32m   2011\u001b[0m         \u001b[0mself\u001b[0m\u001b[0;34m.\u001b[0m\u001b[0munnamed_cols\u001b[0m \u001b[0;34m=\u001b[0m \u001b[0mself\u001b[0m\u001b[0;34m.\u001b[0m\u001b[0m_reader\u001b[0m\u001b[0;34m.\u001b[0m\u001b[0munnamed_cols\u001b[0m\u001b[0;34m\u001b[0m\u001b[0;34m\u001b[0m\u001b[0m\n\u001b[1;32m   2012\u001b[0m \u001b[0;34m\u001b[0m\u001b[0m\n",
            "\u001b[0;32mpandas/_libs/parsers.pyx\u001b[0m in \u001b[0;36mpandas._libs.parsers.TextReader.__cinit__\u001b[0;34m()\u001b[0m\n",
            "\u001b[0;32mpandas/_libs/parsers.pyx\u001b[0m in \u001b[0;36mpandas._libs.parsers.TextReader._setup_parser_source\u001b[0;34m()\u001b[0m\n",
            "\u001b[0;31mFileNotFoundError\u001b[0m: [Errno 2] No such file or directory: '/path/covid_19.csv'"
          ]
        }
      ]
    },
    {
      "cell_type": "markdown",
      "metadata": {
        "id": "ES9tVum0wPvu"
      },
      "source": [
        "7. IDA (Initial Data Analysis)"
      ]
    },
    {
      "cell_type": "markdown",
      "metadata": {
        "id": "tJ5HmBT1wS1h"
      },
      "source": [
        "Statement: I want to take a look at the brief description of data\n",
        "\n",
        "\n",
        "\n",
        "```\n",
        "df.describe()\n",
        "```\n"
      ]
    },
    {
      "cell_type": "markdown",
      "metadata": {
        "id": "Ed9243e9wWD4"
      },
      "source": [
        "8. (option)Remeber to save your dataSet after processing for future usage:\n"
      ]
    },
    {
      "cell_type": "code",
      "metadata": {
        "id": "XeTdT_izwYAv"
      },
      "source": [
        "df.to_csv(index=False) # for example"
      ],
      "execution_count": null,
      "outputs": []
    }
  ]
}