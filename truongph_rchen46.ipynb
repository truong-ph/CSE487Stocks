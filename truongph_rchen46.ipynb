{
  "nbformat": 4,
  "nbformat_minor": 0,
  "metadata": {
    "colab": {
      "name": "Copy of phase1.ipynb",
      "provenance": [],
      "collapsed_sections": [],
      "toc_visible": true
    },
    "kernelspec": {
      "name": "python3",
      "display_name": "Python 3.9.1 64-bit",
      "metadata": {
        "interpreter": {
          "hash": "2c4241e12d7f2613767101f3d90e6aa3af51a27f6c22edec113be36d22047516"
        }
      }
    }
  },
  "cells": [
    {
      "cell_type": "markdown",
      "metadata": {
        "id": "9FIZCSqVuWSb"
      },
      "source": [
        "## Phase 1"
      ]
    },
    {
      "cell_type": "markdown",
      "metadata": {
        "id": "976IIwdyuhSk"
      },
      "source": [
        "### Header\n",
        "#### Course Name: CSE487\n",
        "#### phase #: 1\n",
        "#### term project name: Core Trends Analysis\n"
      ]
    },
    {
      "cell_type": "markdown",
      "metadata": {
        "id": "WlFNyBSWukkE"
      },
      "source": [
        "### Q Write down the following information: \n",
        "#### 1. Identify problems prevalent in public application domains. The issue(s) you are trying to address: This will be a 100-word abstract in the form of a problem statement.: \n",
        "    \n",
        "Our goal is to research and find correlations between modern day technology users and their demographics. Our project focuses on understanding the current patterns that different groups tend to follow. This is an important issue because it shows what interests the younger and older generations are looking towards. This will help companies decide what they should focus on building towards because groups tend to follow trends. If people follow trends and companies develop products and ideas of those trends they will be able to exponentially grow their companie with their product and ideas.\n",
        "\n",
        "Data Sources: https://www.pewresearch.org/"
      ]
    },
    {
      "cell_type": "markdown",
      "metadata": {
        "id": "Fz4y43obuocl"
      },
      "source": [
        "#### 2. Name of your data: Core Trends Analysis"
      ]
    },
    {
      "cell_type": "markdown",
      "metadata": {
        "id": "0GVyBWN0utp5"
      },
      "source": [
        "#### 3. Background:\n",
        "   + Source: https://www.pewresearch.org/\n",
        "   + Time Period: 2011-2019\n",
        "   + Scope (if there is please specified): Americans\n",
        "   + Data Unit: Smartphone owners\n"
      ]
    },
    {
      "cell_type": "markdown",
      "metadata": {
        "id": "qufK6cVXuwP1"
      },
      "source": [
        "#### 4 Introduction of dataset\n",
        "Answer 2 questions:\n",
        "+ How many columns? Show all the column labels. ((You can use pandas.DataFrame.columns to easily show all the labels of columns.)\n",
        "    \n",
        "    There are 74 columns in the dataframe\n",
        "+ What are they refering to respectively? please write in table form (markdown syntax for drawing tables : [markdown tutorial with examples](https://guides.github.com/features/mastering-markdown/))"
      ]
    },
    {
      "source": [
        "Column Header | Description\n",
        "------------ | -------------\n",
        "respid | This is the response id which simply is used to identify each response.\n",
        "sample | This is the sample group that this response belongs to.\n",
        "comp | This is whether or not the survey is complete.\n",
        "int_date | This is the day the survey was taken.\n",
        "lang | This is the language the survey was given in.\n",
        "cregion | This is the region the survey participant was in.\n",
        "state | This is the state the survey participant was in.\n",
        "density | This is the county-level population density of the participant.\n",
        "sfips | This is the state the survey participant was in.\n",
        "usr | This is whether the participant is in an urban, suburban or rural area.\n",
        "qs1 | This question asks whether the participant is under or over 18 years old.\n",
        "sex | This asks for the participant's sex.\n",
        "**Question codes and their respective questions** | -------------\n",
        "eminuse | Do you use the internet or email, at least occasionally?\n",
        "intmob | Do you access the internet on a cell phone, tablet or other mobile handheld device, at least occasionally?\n",
        "intfreq | About how often do you use the internet?\n",
        "snsint2 | Do you ever use social media sites like Facebook, Twitter or Instagram?\n",
        "home4nw | Do you currently subscribe to internet service at HOME?\n",
        "bbhome1 | Do you subscribe to dial-up internet service at home... OR do you subscribe to a higher-speed broadband service such as DSL, cable, or fiber optic service? \n",
        "bbhome2 | Just to confirm, you use a dial-up connection to the internet at home, and not a higher-speed broadband connection? \n",
        "device1a | Next, do you have a cell phone, or not?\n",
        "smart2 | Is your cell phone a smartphone, or not?\n",
        "q20 | Overall, when you use the internet, do you do that mostly using your cell phone or mostly using some other device like a desktop, laptop or tablet computer? \n",
        "bbsmart1 | You said that you do not have high-speed internet service at home. Did you EVER at some point in the past have a broadband internet subscription at home?\n",
        "bbsmart2 | Would you like to have high-speed internet at home , or is that not something you're interested in?\n",
        "**Please tell me whether any of the following are reasons why you do not have high-speed internet at home.** | -------------\n",
        "bbsmart3a | The monthly cost of a home broadband subscription is too expensive\n",
        "bbsmart3b | The cost of a computer is too expensive\n",
        "bbsmart3c | Your smartphone lets you do everything online that you need to do\n",
        "bbsmart3d | You have other options for internet access outside of your home\n",
        "bbsmart3e | Broadband service is not available where you live, or is not available at an acceptable speed\n",
        "bbsmart3f | Some other reason I haven’t already mentioned\n",
        "bbsmart3foe@ | Some other reason I haven’t already mentioned (SPECIFY)\n",
        "bbsmart4 | Thinking of the reasons why you do not have broadband service at home, which of them is the MOST important?\n",
        "**Please tell me if you ever use any of the following social media sites. Do you ever use...** | -------------\n",
        "web1a | Twitter\n",
        "web1b | Instagram\n",
        "web1c | Facebook\n",
        "web1d | Snapchat\n",
        "web1e | YouTube\n",
        "web1f | WhatsApp\n",
        "web1g | Pinterest\n",
        "web1h | LinkedIn\n",
        "web1i | Reddit\n",
        "**Thinking about the social media sites you use... About how often do you visit or use ** | -------------\n",
        "sns2a | Twitter\n",
        "sns2b | Instagram\n",
        "sns2c | Facebook\n",
        "sns2d | Snapchat\n",
        "sns2e | YouTube\n",
        "**Please tell me if you happen to have each of the following items, or not. Do you have...?** | -------------\n",
        "device1b | A tablet computer \n",
        "device1c | A desktop or laptop computer \n",
        "device1d | A game console \n",
        "books1 | During the past 12 months, about how many BOOKS did you read either all or part of the way through? Please include any print, electronic, or audiobooks you may have read or listened to.\n",
        "**Thinking about all of the books you have read in the past 12 months, were any of those... ** | -------------\n",
        "books2a | Printed books\n",
        "books2b | Audiobooks\n",
        "books2c | E-books\n",
        "age | This asks for the participant's age.\n",
        "marital | This asks for the participant's marital status.\n",
        "educ2 | This asks for the participant's highest level of education.\n",
        "emplnw | This asks for the participant's employment status.\n",
        "hisp | This asks if the participant is hispanic.\n",
        "racem1 | This asks for the participant's race.\n",
        "racem2 | This asks for the participant's race. (If more than one)\n",
        "racem3 | This asks for the participant's race. (If more than two)\n",
        "racem4 | This asks for the participant's race. (If more than three)\n",
        "racecmb | This asks for the participant's race if not their race is not included.\n",
        "birth_hisp | This asks for the participant's place of birth.\n",
        "inc | This asks for the participant's total family income.\n",
        "party | This asks for the participant's political party.\n",
        "partyln | This asks for the participant's political leaning.\n",
        "hh1 | This asks for the participant's household size.\n",
        "hh3 | This asks for the participant's house adult count.\n",
        "ql1 | Do you have a working cell phone?\n",
        "ql1a | Does anyone in your household have a working cell phone?\n",
        "qc1 | Now thinking about your telephone use… Is there at least one telephone INSIDE your home that is currently working and is not a cell phone?\n",
        "weight | This determines how much this response is weighed with respect to their demographics and additional calculations to reduce bias.\n",
        "cellweight | This weighs their response based on if they have a cell phone or landline or both."
      ],
      "cell_type": "markdown",
      "metadata": {}
    },
    {
      "source": [
        "#### 5 Hypothesis and conclusion\n",
        "What hypothesis or conclusion do you want to study from the data?  (Remember this relative to your future phases of task)\n"
      ],
      "cell_type": "markdown",
      "metadata": {
        "id": "iEmT1NQJuzf9"
      }
    },
    {
      "cell_type": "markdown",
      "metadata": {
        "id": "fRUoPbAyu2YV"
      },
      "source": [
        "#### 6 Write codes to load the data \n",
        "(recommend: pandas package: 10 mins tutorial: [10 mins tutorial](https://pandas.pydata.org/pandas-docs/stable/user_guide/10min.html#min) )"
      ]
    },
    {
      "cell_type": "code",
      "execution_count": 1,
      "metadata": {},
      "outputs": [],
      "source": [
        "import numpy as np\n",
        "import pandas as pd\n",
        "\n",
        "df = pd.read_csv('data/data1.csv', header=0)"
      ]
    },
    {
      "source": [
        "#### 7 IDA (Initial Data Analysis) \n",
        "[reference to do IDA](https://www.sciencedirect.com/science/article/pii/S0022522315017948)  \\\\\n",
        "Please specify what you've done (text and code) for each operation (at least 10 operations). If some steps will produce a picture, please show this picture\n"
      ],
      "cell_type": "markdown",
      "metadata": {
        "id": "pZhUDBoFu58q"
      }
    },
    {
      "cell_type": "code",
      "execution_count": null,
      "metadata": {},
      "outputs": [],
      "source": []
    },
    {
      "cell_type": "markdown",
      "metadata": {
        "id": "4ngFlilwu8RO"
      },
      "source": [
        "##### 1\n",
        "I want to get rid of the usr column because it describes population density less accurately than the density column. It is a duplicate and has missing data."
      ]
    },
    {
      "cell_type": "code",
      "metadata": {
        "id": "nK6TznoEvC_k"
      },
      "source": [
        "# code"
      ],
      "execution_count": null,
      "outputs": []
    },
    {
      "cell_type": "markdown",
      "metadata": {
        "id": "nQyLIVILvGPR"
      },
      "source": [
        "#### 2\n",
        "I want to get rid of the bbsmart3foe@ column because it specifies other reasons why users don't have internet and is not really helpful as the information is in text and needs much work to be formatted. The bbsmart3f column already has enough details and bbsmart3foe@ is unhelpful."
      ]
    },
    {
      "cell_type": "code",
      "metadata": {
        "id": "tPRrnRtavIBk"
      },
      "source": [
        "# code\n"
      ],
      "execution_count": null,
      "outputs": []
    },
    {
      "cell_type": "markdown",
      "metadata": {
        "id": "-7Hf_rtIvJmr"
      },
      "source": [
        "#### 3\n",
        "I want to reformat the int_date column into a date format."
      ]
    },
    {
      "cell_type": "code",
      "metadata": {
        "id": "5u-Z5UNQvKof"
      },
      "source": [
        "# code"
      ],
      "execution_count": null,
      "outputs": []
    },
    {
      "cell_type": "markdown",
      "metadata": {
        "id": "iSgC-KbwvMOn"
      },
      "source": [
        "#### 4\n",
        "I want to use the comp column to check for complete responses and filter the data."
      ]
    },
    {
      "cell_type": "code",
      "metadata": {
        "id": "Sjmp3Xq6vOa3"
      },
      "source": [
        "# code"
      ],
      "execution_count": null,
      "outputs": []
    },
    {
      "cell_type": "markdown",
      "metadata": {
        "id": "eOM-ypmgvPnU"
      },
      "source": [
        "#### 5\n",
        "I want to check for duplicate rows."
      ]
    },
    {
      "cell_type": "code",
      "metadata": {
        "id": "eLQQUYlyvROd"
      },
      "source": [
        "if(df.duplicated().any()):\n",
        "    print(df.duplicated())\n",
        "    df.drop_duplicates()\n",
        "else:\n",
        "    print(\"No duplicate rows found.\")"
      ],
      "execution_count": 2,
      "outputs": [
        {
          "output_type": "stream",
          "name": "stdout",
          "text": [
            "No duplicate rows found.\n"
          ]
        }
      ]
    },
    {
      "cell_type": "markdown",
      "metadata": {
        "id": "qHgqrXBOvSUW"
      },
      "source": [
        "#### 6\n",
        "I want to check the qs1 \"Under or over 18\" question with the information in the age column."
      ]
    },
    {
      "cell_type": "code",
      "metadata": {
        "id": "eIgTXat0vT6r",
        "tags": []
      },
      "source": [
        "# code\n",
        "mask = (df['age'] >= 18)\n",
        "df['qs1'][mask] = 2\n",
        "mask = (df['age'] < 17)\n",
        "df['qs1'][mask] = 1"
      ],
      "execution_count": 3,
      "outputs": []
    },
    {
      "cell_type": "markdown",
      "metadata": {
        "id": "762KLaUCvXBj"
      },
      "source": [
        "Since pew research did not specify the weighing methodology, the weights will be redone based on sex and age using US Census data."
      ]
    },
    {
      "cell_type": "code",
      "metadata": {
        "id": "LhGcYn-vvZ6I",
        "tags": []
      },
      "source": [
        "# code\n",
        "sex = df['sex'].value_counts().tolist()\n",
        "total = sex[0]+sex[1]\n",
        "sex1 = 0.492 / (sex[0] / total)\n",
        "sex2 = 0.508 / (sex[1] / total)\n",
        "\n",
        "df['weight'][df['sex'] == 1] = sex1\n",
        "df['weight'][df['sex'] == 2] = sex2\n",
        "\n",
        "bins = [18, 25, 34, 54, 64, 100]\n",
        "age = df['age'].value_counts(bins=bins, sort=False).tolist()\n",
        "age1 = 0.114 / (age[0] / total)\n",
        "age2 = 0.164 / (age[1] / total)\n",
        "age3 = 0.334 / (age[2] / total)\n",
        "age4 = 0.172 / (age[3] / total)\n",
        "age5 = 0.216 / (age[4] / total)\n",
        "pd.set_option('display.max_rows', 1502)\n",
        "\n",
        "\n",
        "df['weight'][(df['age'] >= 18) & (df['age'] < 25)] = df['weight'][(df['age'] >= 18) & (df['age'] < 25)].apply(lambda x: x*age1)\n",
        "df['weight'][(df['age'] >= 25) & (df['age'] < 35)] = df['weight'][(df['age'] >= 25) & (df['age'] < 35)].apply(lambda x: x*age2)\n",
        "df['weight'][(df['age'] >= 35) & (df['age'] < 55)] = df['weight'][(df['age'] >= 35) & (df['age'] < 55)].apply(lambda x: x*age3)\n",
        "df['weight'][(df['age'] >= 55) & (df['age'] < 65)] = df['weight'][(df['age'] >= 55) & (df['age'] < 65)].apply(lambda x: x*age4)\n",
        "df['weight'][(df['age'] >= 65)] = df['weight'][(df['age'] >= 65)].apply(lambda x: x*age5)"
      ],
      "execution_count": 5,
      "outputs": [
        {
          "output_type": "stream",
          "name": "stdout",
          "text": [
            "0       2\n1       2\n2       2\n3       2\n4       2\n5       2\n6       2\n7       2\n8       2\n9       2\n10      2\n11      2\n12      2\n13      2\n14      2\n15      2\n16      2\n17      2\n18      2\n19      2\n20      2\n21      2\n22      2\n23      2\n24      2\n25      2\n26      2\n27      2\n28      2\n29      2\n30      2\n31      2\n32      2\n33      2\n34      2\n35      2\n36      2\n37      2\n38      2\n39      2\n40      2\n41      2\n42      2\n43      2\n44      2\n45      2\n46      2\n47      2\n48      2\n49      2\n50      2\n51      2\n52      2\n53      2\n54      2\n55      2\n56      2\n57      2\n58      2\n59      2\n60      2\n61      2\n62      2\n63      2\n64      2\n65      2\n66      2\n67      2\n68      2\n69      2\n70      2\n71      2\n72      2\n73      2\n74      2\n75      2\n76      2\n77      2\n78      2\n79      2\n80      2\n81      2\n82      2\n83      2\n84      2\n85      2\n86      2\n87      2\n88      2\n89      2\n90      2\n91      2\n92      2\n93      2\n94      2\n95      2\n96      2\n97      2\n98      2\n99      2\n100     2\n101     2\n102     2\n103     2\n104     2\n105     2\n106     2\n107     2\n108     2\n109     2\n110     2\n111     2\n112     2\n113     2\n114     2\n115     2\n116     2\n117     2\n118     2\n119     2\n120     2\n121     2\n122     2\n123     2\n124     2\n125     2\n126     2\n127     2\n128     2\n129     2\n130     2\n131     2\n132     2\n133     2\n134     2\n135     2\n136     2\n137     2\n138     2\n139     2\n140     2\n141     2\n142     2\n143     2\n144     2\n145     2\n146     2\n147     2\n148     2\n149     2\n150     2\n151     2\n152     2\n153     2\n154     2\n155     2\n156     2\n157     2\n158     2\n159     2\n160     2\n161     2\n162     2\n163     2\n164     2\n165     2\n166     2\n167     2\n168     2\n169     2\n170     2\n171     2\n172     2\n173     2\n174     2\n175     2\n176     2\n177     2\n178     2\n179     2\n180     2\n181     2\n182     2\n183     2\n184     2\n185     2\n186     2\n187     2\n188     2\n189     2\n190     2\n191     2\n192     2\n193     2\n194     2\n195     2\n196     2\n197     2\n198     2\n199     2\n200     2\n201     2\n202     2\n203     2\n204     2\n205     2\n206     2\n207     2\n208     2\n209     2\n210     2\n211     2\n212     2\n213     2\n214     2\n215     2\n216     2\n217     2\n218     2\n219     2\n220     2\n221     2\n222     2\n223     2\n224     2\n225     2\n226     2\n227     2\n228     2\n229     2\n230     2\n231     2\n232     2\n233     2\n234     2\n235     2\n236     2\n237     2\n238     2\n239     2\n240     2\n241     2\n242     2\n243     2\n244     2\n245     2\n246     2\n247     2\n248     2\n249     2\n250     2\n251     2\n252     2\n253     2\n254     2\n255     2\n256     2\n257     2\n258     2\n259     2\n260     2\n261     2\n262     2\n263     2\n264     2\n265     2\n266     2\n267     2\n268     2\n269     2\n270     2\n271     2\n272     2\n273     2\n274     2\n275     2\n276     2\n277     2\n278     2\n279     2\n280     2\n281     2\n282     2\n283     2\n284     2\n285     2\n286     2\n287     2\n288     2\n289     2\n290     2\n291     2\n292     2\n293     2\n294     2\n295     2\n296     2\n297     2\n298     2\n299     2\n300     2\n301     2\n302     2\n303     2\n304     2\n305     2\n306     2\n307     2\n308     2\n309     2\n310     2\n311     2\n312     2\n313     2\n314     2\n315     2\n316     2\n317     2\n318     2\n319     2\n320     2\n321     2\n322     2\n323     2\n324     2\n325     2\n326     2\n327     2\n328     2\n329     2\n330     2\n331     2\n332     2\n333     2\n334     2\n335     2\n336     2\n337     2\n338     2\n339     2\n340     2\n341     2\n342     2\n343     2\n344     2\n345     2\n346     2\n347     2\n348     2\n349     2\n350     2\n351     2\n352     2\n353     2\n354     2\n355     2\n356     2\n357     2\n358     2\n359     2\n360     2\n361     2\n362     2\n363     2\n364     2\n365     2\n366     2\n367     2\n368     2\n369     2\n370     2\n371     2\n372     2\n373     2\n374     2\n375     2\n376     2\n377     2\n378     2\n379     2\n380     2\n381     2\n382     2\n383     2\n384     2\n385     2\n386     2\n387     2\n388     2\n389     2\n390     2\n391     2\n392     2\n393     2\n394     2\n395     2\n396     2\n397     2\n398     2\n399     2\n400     2\n401     2\n402     2\n403     2\n404     2\n405     2\n406     2\n407     2\n408     2\n409     2\n410     2\n411     2\n412     2\n413     2\n414     2\n415     2\n416     2\n417     2\n418     2\n419     2\n420     2\n421     2\n422     2\n423     2\n424     2\n425     2\n426     2\n427     2\n428     2\n429     2\n430     2\n431     2\n432     2\n433     2\n434     2\n435     2\n436     2\n437     2\n438     2\n439     2\n440     2\n441     2\n442     2\n443     2\n444     2\n445     2\n446     2\n447     2\n448     2\n449     2\n450     2\n451     2\n452     2\n453     2\n454     2\n455     2\n456     2\n457     2\n458     2\n459     2\n460     2\n461     2\n462     2\n463     2\n464     2\n465     2\n466     2\n467     2\n468     2\n469     2\n470     2\n471     2\n472     2\n473     2\n474     2\n475     2\n476     2\n477     2\n478     2\n479     2\n480     2\n481     2\n482     2\n483     2\n484     2\n485     2\n486     2\n487     2\n488     2\n489     2\n490     2\n491     2\n492     2\n493     2\n494     2\n495     2\n496     2\n497     2\n498     2\n499     2\n500     2\n501     2\n502     2\n503     2\n504     2\n505     2\n506     2\n507     2\n508     2\n509     2\n510     2\n511     2\n512     2\n513     2\n514     2\n515     2\n516     2\n517     2\n518     2\n519     2\n520     2\n521     2\n522     2\n523     2\n524     2\n525     2\n526     2\n527     2\n528     2\n529     2\n530     2\n531     2\n532     2\n533     2\n534     2\n535     2\n536     2\n537     2\n538     2\n539     2\n540     2\n541     2\n542     2\n543     2\n544     2\n545     2\n546     2\n547     2\n548     2\n549     2\n550     2\n551     2\n552     2\n553     2\n554     2\n555     2\n556     2\n557     2\n558     2\n559     2\n560     2\n561     2\n562     2\n563     2\n564     2\n565     2\n566     2\n567     2\n568     2\n569     2\n570     2\n571     2\n572     2\n573     2\n574     2\n575     2\n576     2\n577     2\n578     2\n579     2\n580     2\n581     2\n582     2\n583     2\n584     2\n585     2\n586     2\n587     2\n588     2\n589     2\n590     2\n591     2\n592     2\n593     2\n594     2\n595     2\n596     2\n597     2\n598     2\n599     2\n600     2\n601     2\n602     2\n603     2\n604     2\n605     2\n606     2\n607     2\n608     2\n609     2\n610     2\n611     2\n612     2\n613     2\n614     2\n615     2\n616     2\n617     2\n618     2\n619     2\n620     2\n621     2\n622     2\n623     2\n624     2\n625     2\n626     2\n627     2\n628     2\n629     2\n630     2\n631     2\n632     2\n633     2\n634     2\n635     2\n636     2\n637     2\n638     2\n639     2\n640     2\n641     2\n642     2\n643     2\n644     2\n645     2\n646     2\n647     2\n648     2\n649     2\n650     2\n651     2\n652     2\n653     2\n654     2\n655     2\n656     2\n657     2\n658     2\n659     2\n660     2\n661     2\n662     2\n663     2\n664     2\n665     2\n666     2\n667     2\n668     2\n669     2\n670     2\n671     2\n672     2\n673     2\n674     2\n675     2\n676     2\n677     2\n678     2\n679     2\n680     2\n681     2\n682     2\n683     2\n684     2\n685     2\n686     2\n687     2\n688     2\n689     2\n690     2\n691     2\n692     2\n693     2\n694     2\n695     2\n696     2\n697     2\n698     2\n699     2\n700     2\n701     2\n702     2\n703     2\n704     2\n705     2\n706     2\n707     2\n708     2\n709     2\n710     2\n711     2\n712     2\n713     2\n714     2\n715     2\n716     2\n717     2\n718     2\n719     2\n720     2\n721     2\n722     2\n723     2\n724     2\n725     2\n726     2\n727     2\n728     2\n729     2\n730     2\n731     2\n732     2\n733     2\n734     2\n735     2\n736     2\n737     2\n738     2\n739     2\n740     2\n741     2\n742     2\n743     2\n744     2\n745     2\n746     2\n747     2\n748     2\n749     2\n750     2\n751     2\n752     2\n753     2\n754     2\n755     2\n756     2\n757     2\n758     2\n759     2\n760     2\n761     2\n762     2\n763     2\n764     2\n765     2\n766     2\n767     2\n768     2\n769     2\n770     2\n771     2\n772     2\n773     2\n774     2\n775     2\n776     2\n777     2\n778     2\n779     2\n780     2\n781     2\n782     2\n783     2\n784     2\n785     2\n786     2\n787     2\n788     2\n789     2\n790     2\n791     2\n792     2\n793     2\n794     2\n795     2\n796     2\n797     2\n798     2\n799     2\n800     2\n801     2\n802     2\n803     2\n804     2\n805     2\n806     2\n807     2\n808     2\n809     2\n810     2\n811     2\n812     2\n813     2\n814     2\n815     2\n816     2\n817     2\n818     2\n819     2\n820     2\n821     2\n822     2\n823     2\n824     2\n825     2\n826     2\n827     2\n828     2\n829     2\n830     2\n831     2\n832     2\n833     2\n834     2\n835     2\n836     2\n837     2\n838     2\n839     2\n840     2\n841     2\n842     2\n843     2\n844     2\n845     2\n846     2\n847     2\n848     2\n849     2\n850     2\n851     2\n852     2\n853     2\n854     2\n855     2\n856     2\n857     2\n858     2\n859     2\n860     2\n861     2\n862     2\n863     2\n864     2\n865     2\n866     2\n867     2\n868     2\n869     2\n870     2\n871     2\n872     2\n873     2\n874     2\n875     2\n876     2\n877     2\n878     2\n879     2\n880     2\n881     2\n882     2\n883     2\n884     2\n885     2\n886     2\n887     2\n888     2\n889     2\n890     2\n891     2\n892     2\n893     2\n894     2\n895     2\n896     2\n897     2\n898     2\n899     2\n900     2\n901     2\n902     2\n903     2\n904     2\n905     2\n906     2\n907     2\n908     2\n909     2\n910     2\n911     2\n912     2\n913     2\n914     2\n915     2\n916     2\n917     2\n918     2\n919     2\n920     2\n921     2\n922     2\n923     2\n924     2\n925     2\n926     2\n927     2\n928     2\n929     2\n930     2\n931     2\n932     2\n933     2\n934     2\n935     2\n936     2\n937     2\n938     2\n939     2\n940     2\n941     2\n942     2\n943     2\n944     2\n945     2\n946     2\n947     2\n948     2\n949     2\n950     2\n951     2\n952     2\n953     2\n954     2\n955     2\n956     2\n957     2\n958     2\n959     2\n960     2\n961     2\n962     2\n963     2\n964     2\n965     2\n966     2\n967     2\n968     2\n969     2\n970     2\n971     2\n972     2\n973     2\n974     2\n975     2\n976     2\n977     2\n978     2\n979     2\n980     2\n981     2\n982     2\n983     2\n984     2\n985     2\n986     2\n987     2\n988     2\n989     2\n990     2\n991     2\n992     2\n993     2\n994     2\n995     2\n996     2\n997     2\n998     2\n999     2\n1000    2\n1001    2\n1002    2\n1003    2\n1004    2\n1005    2\n1006    2\n1007    2\n1008    2\n1009    2\n1010    2\n1011    2\n1012    2\n1013    2\n1014    2\n1015    2\n1016    2\n1017    2\n1018    2\n1019    2\n1020    2\n1021    2\n1022    2\n1023    2\n1024    2\n1025    2\n1026    2\n1027    2\n1028    2\n1029    2\n1030    2\n1031    2\n1032    2\n1033    2\n1034    2\n1035    2\n1036    2\n1037    2\n1038    2\n1039    2\n1040    2\n1041    2\n1042    2\n1043    2\n1044    2\n1045    2\n1046    2\n1047    2\n1048    2\n1049    2\n1050    2\n1051    2\n1052    2\n1053    2\n1054    2\n1055    2\n1056    2\n1057    2\n1058    2\n1059    2\n1060    2\n1061    2\n1062    2\n1063    2\n1064    2\n1065    2\n1066    2\n1067    2\n1068    2\n1069    2\n1070    2\n1071    2\n1072    2\n1073    2\n1074    2\n1075    2\n1076    2\n1077    2\n1078    2\n1079    2\n1080    2\n1081    2\n1082    2\n1083    2\n1084    2\n1085    2\n1086    2\n1087    2\n1088    2\n1089    2\n1090    2\n1091    2\n1092    2\n1093    2\n1094    2\n1095    2\n1096    2\n1097    2\n1098    2\n1099    2\n1100    2\n1101    2\n1102    2\n1103    2\n1104    2\n1105    2\n1106    2\n1107    2\n1108    2\n1109    2\n1110    2\n1111    2\n1112    2\n1113    2\n1114    2\n1115    2\n1116    2\n1117    2\n1118    2\n1119    2\n1120    2\n1121    2\n1122    2\n1123    2\n1124    2\n1125    2\n1126    2\n1127    2\n1128    2\n1129    2\n1130    2\n1131    2\n1132    2\n1133    2\n1134    2\n1135    2\n1136    2\n1137    2\n1138    2\n1139    2\n1140    2\n1141    2\n1142    2\n1143    2\n1144    2\n1145    2\n1146    2\n1147    2\n1148    2\n1149    2\n1150    2\n1151    2\n1152    2\n1153    2\n1154    2\n1155    2\n1156    2\n1157    2\n1158    2\n1159    2\n1160    2\n1161    2\n1162    2\n1163    2\n1164    2\n1165    2\n1166    2\n1167    2\n1168    2\n1169    2\n1170    2\n1171    2\n1172    2\n1173    2\n1174    2\n1175    2\n1176    2\n1177    2\n1178    2\n1179    2\n1180    2\n1181    2\n1182    2\n1183    2\n1184    2\n1185    2\n1186    2\n1187    2\n1188    2\n1189    2\n1190    2\n1191    2\n1192    2\n1193    2\n1194    2\n1195    2\n1196    2\n1197    2\n1198    2\n1199    2\n1200    2\n1201    2\n1202    2\n1203    2\n1204    2\n1205    2\n1206    2\n1207    2\n1208    2\n1209    2\n1210    2\n1211    2\n1212    2\n1213    2\n1214    2\n1215    2\n1216    2\n1217    2\n1218    2\n1219    2\n1220    2\n1221    2\n1222    2\n1223    2\n1224    2\n1225    2\n1226    2\n1227    2\n1228    2\n1229    2\n1230    2\n1231    2\n1232    2\n1233    2\n1234    2\n1235    2\n1236    2\n1237    2\n1238    2\n1239    2\n1240    2\n1241    2\n1242    2\n1243    2\n1244    2\n1245    2\n1246    2\n1247    2\n1248    2\n1249    2\n1250    2\n1251    2\n1252    2\n1253    2\n1254    2\n1255    2\n1256    2\n1257    2\n1258    2\n1259    2\n1260    2\n1261    2\n1262    2\n1263    2\n1264    2\n1265    2\n1266    2\n1267    2\n1268    2\n1269    2\n1270    2\n1271    2\n1272    2\n1273    2\n1274    2\n1275    2\n1276    2\n1277    2\n1278    2\n1279    2\n1280    2\n1281    2\n1282    2\n1283    2\n1284    2\n1285    2\n1286    2\n1287    2\n1288    2\n1289    2\n1290    2\n1291    2\n1292    2\n1293    2\n1294    2\n1295    2\n1296    2\n1297    2\n1298    2\n1299    2\n1300    2\n1301    2\n1302    2\n1303    2\n1304    2\n1305    2\n1306    2\n1307    2\n1308    2\n1309    2\n1310    2\n1311    2\n1312    2\n1313    2\n1314    2\n1315    2\n1316    2\n1317    2\n1318    2\n1319    2\n1320    2\n1321    2\n1322    2\n1323    2\n1324    2\n1325    2\n1326    2\n1327    2\n1328    2\n1329    2\n1330    2\n1331    2\n1332    2\n1333    2\n1334    2\n1335    2\n1336    2\n1337    2\n1338    2\n1339    2\n1340    2\n1341    2\n1342    2\n1343    2\n1344    2\n1345    2\n1346    2\n1347    2\n1348    2\n1349    2\n1350    2\n1351    2\n1352    2\n1353    2\n1354    2\n1355    2\n1356    2\n1357    2\n1358    2\n1359    2\n1360    2\n1361    2\n1362    2\n1363    2\n1364    2\n1365    2\n1366    2\n1367    2\n1368    2\n1369    2\n1370    2\n1371    2\n1372    2\n1373    2\n1374    2\n1375    2\n1376    2\n1377    2\n1378    2\n1379    2\n1380    2\n1381    2\n1382    2\n1383    2\n1384    2\n1385    2\n1386    2\n1387    2\n1388    2\n1389    2\n1390    2\n1391    2\n1392    2\n1393    2\n1394    2\n1395    2\n1396    2\n1397    2\n1398    2\n1399    2\n1400    2\n1401    2\n1402    2\n1403    2\n1404    2\n1405    2\n1406    2\n1407    2\n1408    2\n1409    2\n1410    2\n1411    2\n1412    2\n1413    2\n1414    2\n1415    2\n1416    2\n1417    2\n1418    2\n1419    2\n1420    2\n1421    2\n1422    2\n1423    2\n1424    2\n1425    2\n1426    2\n1427    2\n1428    2\n1429    2\n1430    2\n1431    2\n1432    2\n1433    2\n1434    2\n1435    2\n1436    2\n1437    2\n1438    2\n1439    2\n1440    2\n1441    2\n1442    2\n1443    2\n1444    2\n1445    2\n1446    2\n1447    2\n1448    2\n1449    2\n1450    2\n1451    2\n1452    2\n1453    2\n1454    2\n1455    2\n1456    2\n1457    2\n1458    2\n1459    2\n1460    2\n1461    2\n1462    2\n1463    2\n1464    2\n1465    2\n1466    2\n1467    2\n1468    2\n1469    2\n1470    2\n1471    2\n1472    2\n1473    2\n1474    2\n1475    2\n1476    2\n1477    2\n1478    2\n1479    2\n1480    2\n1481    2\n1482    2\n1483    2\n1484    2\n1485    2\n1486    2\n1487    2\n1488    2\n1489    2\n1490    2\n1491    2\n1492    2\n1493    2\n1494    2\n1495    2\n1496    2\n1497    2\n1498    2\n1499    2\n1500    2\n1501    2\nName: qs1, dtype: object\n"
          ]
        }
      ]
    },
    {
      "cell_type": "markdown",
      "metadata": {
        "id": "i5vFIJD3va2p"
      },
      "source": [
        "#### 8\n",
        "I want to fill out the empty hh3 column using data from the age column and the hh1 column."
      ]
    },
    {
      "cell_type": "code",
      "execution_count": 6,
      "metadata": {
        "tags": []
      },
      "outputs": [],
      "source": [
        "df['hh3'][(df['age'] >= 18) & (df['hh1'] == 1) & (df['hh3'] == ' ')] = 1"
      ]
    },
    {
      "cell_type": "markdown",
      "metadata": {
        "id": "WPTluAKevdH7"
      },
      "source": [
        "#### 9\n",
        "I want to check that the web columns are non-empty."
      ]
    },
    {
      "cell_type": "code",
      "metadata": {
        "id": "py3OFpVivcXv",
        "tags": []
      },
      "source": [
        "# code\n",
        "\n",
        "if((df['web1a'] == ' ').any()):\n",
        "    df = df[~(df['web1a'] == ' ')]\n",
        "if((df['web1b'] == ' ').any()):\n",
        "    df = df[~(df['web1b'] == ' ')]\n",
        "if((df['web1c'] == ' ').any()):\n",
        "    df = df[~(df['web1c'] == ' ')]\n",
        "if((df['web1d'] == ' ').any()):\n",
        "    df = df[~(df['web1d'] == ' ')]\n",
        "if((df['web1e'] == ' ').any()):\n",
        "    df = df[~(df['web1e'] == ' ')]\n",
        "if((df['web1f'] == ' ').any()):\n",
        "    df = df[~(df['web1f'] == ' ')]\n",
        "if((df['web1g'] == ' ').any()):\n",
        "    df = df[~(df['web1g'] == ' ')]\n",
        "if((df['web1h'] == ' ').any()):\n",
        "    df = df[~(df['web1h'] == ' ')]\n",
        "if((df['web1i'] == ' ').any()):\n",
        "    df = df[~(df['web1i'] == ' ')]"
      ],
      "execution_count": 7,
      "outputs": []
    },
    {
      "cell_type": "markdown",
      "metadata": {
        "id": "cBUb2I6Lvfjg"
      },
      "source": [
        "#### 10\n",
        "I want to use column ql1 to fill out column device1a as it is incomplete then get rid of ql1 because it is a duplicate."
      ]
    },
    {
      "cell_type": "code",
      "metadata": {
        "id": "A3vS-v54vhZG",
        "tags": []
      },
      "source": [
        "# code\n",
        "df['device1a'][(df['ql1'] == ' ')] = 1\n",
        "df = df.drop('ql1', 1)"
      ],
      "execution_count": 12,
      "outputs": []
    },
    {
      "cell_type": "markdown",
      "metadata": {
        "id": "LKHINRLLvohC"
      },
      "source": [
        "8. (option)Remeber to save your dataSet after processing for future usage:\n"
      ]
    },
    {
      "cell_type": "markdown",
      "metadata": {
        "id": "eaDWN21SvpXc"
      },
      "source": [
        "### Submission guideline:\n",
        "1. write your code and report in this notebook. \n",
        "2. save this notebook as <person1ubname_person2ubname.ipynb>.\n",
        "3. save your raw data in data folder.\n",
        "4. save the notebook file with data folder in a folder named <Jiayi_person1ubname_person2ubname.zip> or <Ping_person1ubname_person2ubname.zip> or <Chen_person1ubname_person2ubname.zip> depended on which TA you have choosed. \n",
        "5. upload your zip file to timberlake server."
      ]
    },
    {
      "cell_type": "markdown",
      "metadata": {
        "id": "EKhTnH90vyGU"
      },
      "source": [
        "### Grading:\n",
        "    0 – no submission by deadline\n",
        "    15 – completed submission with all the requirements\n",
        "    10 – there are missing items, or unsatisfactory in some respects\n",
        "    5 – submission present but many required items missing or code not working\n",
        "    \n",
        "Once the deadline is past, you get a zero for the phase if you did not submit anything, even though you need to complete the phase to work on the next phase.\n"
      ]
    },
    {
      "cell_type": "markdown",
      "metadata": {
        "id": "dFA49ew2vtR5"
      },
      "source": [
        "### Example Answer\n",
        "(I am using the dataset from https://www.kaggle.com/gpreda/covid-world-vaccination-progress to provide a sample answer )\n",
        "\n",
        "1. Source of Data: https://ourworldindata.org/\n",
        "2. Give a name to your dataset: COVID-19 WVP (World Vaccination Progress)\n",
        "3. Background:\n",
        "   + Data were collected by Our World in Data\n",
        "   + Time Period: 2020-2021\n",
        "   + Scope (if there is please specified): Global\n",
        "   + Data Unit: Individual country\n"
      ]
    },
    {
      "cell_type": "markdown",
      "metadata": {
        "id": "JFkWb7Mlv-Mn"
      },
      "source": [
        "|Column label|description|\n",
        "|-|-|\n",
        "| Country | this is the country for which the vaccination information is provided |\n",
        "| Country ISO Code | ISO code for the country|\n",
        "|Date | date for the data entry; for some of the dates we have only the daily vaccinations, for others, only the (cumulative) total|\n",
        "|Total number of vaccinations| this is the absolute number of total immunizations in the country |\n",
        "|Total number of people vaccinated| a person, depending on the immunization scheme, will receive one or more (typically 2) vaccines; at a certain moment, the number of vaccination might be larger than the number of people|\n",
        "|Total number of people fully vaccinated| the number of people that received the entire set of immunization according to the immunization scheme (typically 2); at a certain moment in time, there might be a certain number of people that received one vaccine and another number (smaller) of people that received all vaccines in the scheme|\n",
        "|Daily vaccinations (raw) | for a certain data entry, the number of vaccination for that date/country|\n",
        "|Daily vaccinations | for a certain data entry, the number of vaccination for that date/country|\n",
        "|Total vaccinations per hundred| ratio (in percent) between vaccination number and total population up to the date in the country|\n",
        "|Total number of people vaccinated per hundred | ratio (in percent) between population immunized and total population up to the date in the country|\n",
        "|Total number of people fully vaccinated per hundred |ratio (in percent) between population fully immunized and total population up to the date in the country|\n",
        "|Number of vaccinations per day | number of daily vaccination for that day and country|\n",
        "|Daily vaccinations per million | ratio (in ppm) between vaccination number and total population for the current date in the country|\n",
        "|Vaccines used in the country | total number of vaccines used in the country (up to date)|\n",
        "|Source name | source of the information (national authority, international organization, local organization etc.)|\n",
        "|Source website | website of the source of information|"
      ]
    },
    {
      "cell_type": "markdown",
      "metadata": {
        "id": "QAT7me0Lv7VG"
      },
      "source": [
        "4. Introduction of dataset: Answer 2 questions:\n",
        "+ How many columns? Show all the column labels. ((You can use pandas.DataFrame.columns to easily show all the labels of columns.)\n",
        "+ What are they refering to respectively? please write in table form (markdown syntax for drawing tables : [markdown tutorial with examples](https://guides.github.com/features/mastering-markdown/))"
      ]
    },
    {
      "cell_type": "markdown",
      "metadata": {
        "id": "Sh89X2GrwAsJ"
      },
      "source": [
        "5. What hypothesis or conclusion do you want to study from the data?  (Remember this relative to your future phases of task)\\\\\n",
        "The relation between time with respect to increaseing of vaccinated people per day is decreasing negative exponetially (You don't need to be too specific on the hypothesis, something vague is fine. But the hypothesis mustn't be too obvious to analysis, e.g. find the country with largest vaccinated people ). \\\\"
      ]
    },
    {
      "cell_type": "markdown",
      "metadata": {
        "id": "7y9jxRMXwDe2"
      },
      "source": [
        "6. Write codes to load the data (recommend: pandas package) save your data in your google drive \"./data\" folder"
      ]
    },
    {
      "cell_type": "code",
      "metadata": {
        "colab": {
          "base_uri": "https://localhost:8080/",
          "height": 392
        },
        "id": "kizngdmFwHQb",
        "outputId": "684fec4e-8929-4cf5-f4af-3a7b12c6f987"
      },
      "source": [
        "import pandas as pd\n",
        "from google.colab import files\n",
        "from google.colab import drive\n",
        "drive.mount('/content/drive')\n",
        "\n",
        "df = pd.read_csv(\"/content/drive/My Drive/data/test.csv\")"
      ],
      "execution_count": null,
      "outputs": []
    },
    {
      "cell_type": "markdown",
      "metadata": {
        "id": "ES9tVum0wPvu"
      },
      "source": [
        "7. IDA (Initial Data Analysis)"
      ]
    },
    {
      "cell_type": "markdown",
      "metadata": {
        "id": "tJ5HmBT1wS1h"
      },
      "source": [
        "Statement: I want to take a look at the brief description of data\n",
        "\n",
        "\n",
        "\n",
        "```\n",
        "df.describe()\n",
        "```\n"
      ]
    },
    {
      "cell_type": "markdown",
      "metadata": {
        "id": "Ed9243e9wWD4"
      },
      "source": [
        "8. (option)Remeber to save your dataSet after processing for future usage:\n"
      ]
    },
    {
      "cell_type": "code",
      "metadata": {
        "id": "XeTdT_izwYAv"
      },
      "source": [
        "df.to_csv(index=False) # for example"
      ],
      "execution_count": null,
      "outputs": []
    }
  ]
}