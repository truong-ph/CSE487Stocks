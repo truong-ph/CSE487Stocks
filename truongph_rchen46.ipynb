{
  "nbformat": 4,
  "nbformat_minor": 0,
  "metadata": {
    "colab": {
      "name": "Copy of phase1.ipynb",
      "provenance": [],
      "collapsed_sections": [],
      "toc_visible": true
    },
    "kernelspec": {
      "name": "python3",
      "display_name": "Python 3.9.1 64-bit",
      "metadata": {
        "interpreter": {
          "hash": "d679108e2e5c05956ec8641fe0ea229a2bee0b4d6e6c629ad872bf08ba7330c2"
        }
      }
    }
  },
  "cells": [
    {
      "cell_type": "markdown",
      "metadata": {
        "id": "9FIZCSqVuWSb"
      },
      "source": [
        "## Phase 1"
      ]
    },
    {
      "cell_type": "markdown",
      "metadata": {
        "id": "976IIwdyuhSk"
      },
      "source": [
        "### Header\n",
        "#### Course Name: CSE487\n",
        "#### phase #: 1\n",
        "#### term project name: Core Trends Analysis\n"
      ]
    },
    {
      "cell_type": "markdown",
      "metadata": {
        "id": "WlFNyBSWukkE"
      },
      "source": [
        "### Q Write down the following information: \n",
        "#### 1. Identify problems prevalent in public application domains. The issue(s) you are trying to address: This will be a 100-word abstract in the form of a problem statement.: \n",
        "    \n",
        "Our goal is to research and find correlations between modern day technology users and their demographics. Our project focuses on understanding the current patterns that different groups tend to follow. This is an important issue because it shows what interests the younger and older generations are looking towards. This will help companies decide what they should focus on building towards because groups tend to follow trends. If people follow trends and companies develop products and ideas of those trends they will be able to exponentially grow their companie with their product and ideas.\n",
        "\n",
        "Data Sources: https://www.pewresearch.org/"
      ]
    },
    {
      "cell_type": "markdown",
      "metadata": {
        "id": "Fz4y43obuocl"
      },
      "source": [
        "#### 2. Name of your data: Core Trends Analysis"
      ]
    },
    {
      "cell_type": "markdown",
      "metadata": {
        "id": "0GVyBWN0utp5"
      },
      "source": [
        "#### 3. Background:\n",
        "   + Source: https://www.pewresearch.org/\n",
        "   + Time Period: 2011-2019\n",
        "   + Scope (if there is please specified): Americans\n",
        "   + Data Unit: Smartphone owners\n"
      ]
    },
    {
      "cell_type": "markdown",
      "metadata": {
        "id": "qufK6cVXuwP1"
      },
      "source": [
        "#### 4 Introduction of dataset\n",
        "Answer 2 questions:\n",
        "+ How many columns? Show all the column labels. ((You can use pandas.DataFrame.columns to easily show all the labels of columns.)\n",
        "    \n",
        "    There are 74 columns in the dataframe\n",
        "+ What are they refering to respectively? please write in table form (markdown syntax for drawing tables : [markdown tutorial with examples](https://guides.github.com/features/mastering-markdown/))"
      ]
    },
    {
      "source": [
        "Column Header | Description\n",
        "------------ | -------------\n",
        "respid | This is the response id which simply is used to identify each response.\n",
        "sample | This is the sample group that this response belongs to.\n",
        "comp | This is whether or not the survey is complete.\n",
        "int_date | This is the day the survey was taken.\n",
        "lang | This is the language the survey was given in.\n",
        "cregion | This is the region the survey participant was in.\n",
        "state | This is the state the survey participant was in.\n",
        "density | This is the county-level population density of the participant.\n",
        "sfips | This is the state the survey participant was in.\n",
        "usr | This is whether the participant is in an urban, suburban or rural area.\n",
        "qs1 | This question asks whether the participant is under or over 18 years old.\n",
        "sex | This asks for the participant's sex.\n",
        "**Question codes and their respective questions** | -------------\n",
        "eminuse | Do you use the internet or email, at least occasionally?\n",
        "intmob | Do you access the internet on a cell phone, tablet or other mobile handheld device, at least occasionally?\n",
        "intfreq | About how often do you use the internet?\n",
        "snsint2 | Do you ever use social media sites like Facebook, Twitter or Instagram?\n",
        "home4nw | Do you currently subscribe to internet service at HOME?\n",
        "bbhome1 | Do you subscribe to dial-up internet service at home... OR do you subscribe to a higher-speed broadband service such as DSL, cable, or fiber optic service? \n",
        "bbhome2 | Just to confirm, you use a dial-up connection to the internet at home, and not a higher-speed broadband connection? \n",
        "device1a | Next, do you have a cell phone, or not?\n",
        "smart2 | Is your cell phone a smartphone, or not?\n",
        "q20 | Overall, when you use the internet, do you do that mostly using your cell phone or mostly using some other device like a desktop, laptop or tablet computer? \n",
        "bbsmart1 | You said that you do not have high-speed internet service at home. Did you EVER at some point in the past have a broadband internet subscription at home?\n",
        "bbsmart2 | Would you like to have high-speed internet at home , or is that not something you're interested in?\n",
        "**Please tell me whether any of the following are reasons why you do not have high-speed internet at home.** | -------------\n",
        "bbsmart3a | The monthly cost of a home broadband subscription is too expensive\n",
        "bbsmart3b | The cost of a computer is too expensive\n",
        "bbsmart3c | Your smartphone lets you do everything online that you need to do\n",
        "bbsmart3d | You have other options for internet access outside of your home\n",
        "bbsmart3e | Broadband service is not available where you live, or is not available at an acceptable speed\n",
        "bbsmart3f | Some other reason I haven’t already mentioned\n",
        "bbsmart3foe@ | Some other reason I haven’t already mentioned (SPECIFY)\n",
        "bbsmart4 | Thinking of the reasons why you do not have broadband service at home, which of them is the MOST important?\n",
        "**Please tell me if you ever use any of the following social media sites. Do you ever use...** | -------------\n",
        "web1a | Twitter\n",
        "web1b | Instagram\n",
        "web1c | Facebook\n",
        "web1d | Snapchat\n",
        "web1e | YouTube\n",
        "web1f | WhatsApp\n",
        "web1g | Pinterest\n",
        "web1h | LinkedIn\n",
        "web1i | Reddit\n",
        "**Thinking about the social media sites you use... About how often do you visit or use ** | -------------\n",
        "sns2a | Twitter\n",
        "sns2b | Instagram\n",
        "sns2c | Facebook\n",
        "sns2d | Snapchat\n",
        "sns2e | YouTube\n",
        "**Please tell me if you happen to have each of the following items, or not. Do you have...?** | -------------\n",
        "device1b | A tablet computer \n",
        "device1c | A desktop or laptop computer \n",
        "device1d | A game console \n",
        "books1 | During the past 12 months, about how many BOOKS did you read either all or part of the way through? Please include any print, electronic, or audiobooks you may have read or listened to.\n",
        "**Thinking about all of the books you have read in the past 12 months, were any of those... ** | -------------\n",
        "books2a | Printed books\n",
        "books2b | Audiobooks\n",
        "books2c | E-books\n",
        "age | This asks for the participant's age.\n",
        "marital | This asks for the participant's marital status.\n",
        "educ2 | This asks for the participant's highest level of education.\n",
        "emplnw | This asks for the participant's employment status.\n",
        "hisp | This asks if the participant is hispanic.\n",
        "racem1 | This asks for the participant's race.\n",
        "racem2 | This asks for the participant's race. (If more than one)\n",
        "racem3 | This asks for the participant's race. (If more than two)\n",
        "racem4 | This asks for the participant's race. (If more than three)\n",
        "racecmb | This asks for the participant's race if not their race is not included.\n",
        "birth_hisp | This asks for the participant's place of birth.\n",
        "inc | This asks for the participant's total family income.\n",
        "party | This asks for the participant's political party.\n",
        "partyln | This asks for the participant's political leaning.\n",
        "hh1 | This asks for the participant's household size.\n",
        "hh3 | This asks for the participant's house adult count.\n",
        "ql1 | Do you have a working cell phone?\n",
        "ql1a | Does anyone in your household have a working cell phone?\n",
        "qc1 | Now thinking about your telephone use… Is there at least one telephone INSIDE your home that is currently working and is not a cell phone?\n",
        "weight | This determines how much this response is weighed with respect to their demographics and additional calculations to reduce bias.\n",
        "cellweight | This weighs their response based on if they have a cell phone or landline or both."
      ],
      "cell_type": "markdown",
      "metadata": {}
    },
    {
      "source": [
        "#### 5 Hypothesis and conclusion\n",
        "What hypothesis or conclusion do you want to study from the data?  (Remember this relative to your future phases of task)\n"
      ],
      "cell_type": "markdown",
      "metadata": {
        "id": "iEmT1NQJuzf9"
      }
    },
    {
      "cell_type": "markdown",
      "metadata": {
        "id": "fRUoPbAyu2YV"
      },
      "source": [
        "#### 6 Write codes to load the data \n",
        "(recommend: pandas package: 10 mins tutorial: [10 mins tutorial](https://pandas.pydata.org/pandas-docs/stable/user_guide/10min.html#min) )"
      ]
    },
    {
      "cell_type": "code",
      "execution_count": null,
      "metadata": {},
      "outputs": [],
      "source": [
        "import numpy as np\n",
        "import pandas as pd\n",
        "\n",
        "df = pd.read_csv('data/January 8-February 7, 2019 - Core Trends Survey - CSV.csv', header=0)"
      ]
    },
    {
      "source": [
        "#### 7 IDA (Initial Data Analysis) \n",
        "[reference to do IDA](https://www.sciencedirect.com/science/article/pii/S0022522315017948)  \\\\\n",
        "Please specify what you've done (text and code) for each operation (at least 10 operations). If some steps will produce a picture, please show this picture\n"
      ],
      "cell_type": "markdown",
      "metadata": {
        "id": "pZhUDBoFu58q"
      }
    },
    {
      "cell_type": "markdown",
      "metadata": {
        "id": "4ngFlilwu8RO"
      },
      "source": [
        "##### 1"
      ]
    },
    {
      "cell_type": "code",
      "metadata": {
        "id": "nK6TznoEvC_k"
      },
      "source": [
        "# code"
      ],
      "execution_count": null,
      "outputs": []
    },
    {
      "cell_type": "markdown",
      "metadata": {
        "id": "nQyLIVILvGPR"
      },
      "source": [
        "#### 2"
      ]
    },
    {
      "cell_type": "code",
      "metadata": {
        "id": "tPRrnRtavIBk"
      },
      "source": [
        "# code\n"
      ],
      "execution_count": null,
      "outputs": []
    },
    {
      "cell_type": "markdown",
      "metadata": {
        "id": "-7Hf_rtIvJmr"
      },
      "source": [
        "#### 3"
      ]
    },
    {
      "cell_type": "code",
      "metadata": {
        "id": "5u-Z5UNQvKof"
      },
      "source": [
        "# code"
      ],
      "execution_count": null,
      "outputs": []
    },
    {
      "cell_type": "markdown",
      "metadata": {
        "id": "iSgC-KbwvMOn"
      },
      "source": [
        "#### 4"
      ]
    },
    {
      "cell_type": "code",
      "metadata": {
        "id": "Sjmp3Xq6vOa3"
      },
      "source": [
        "# code"
      ],
      "execution_count": null,
      "outputs": []
    },
    {
      "cell_type": "markdown",
      "metadata": {
        "id": "eOM-ypmgvPnU"
      },
      "source": [
        "#### 5"
      ]
    },
    {
      "cell_type": "code",
      "metadata": {
        "id": "eLQQUYlyvROd"
      },
      "source": [
        "# code"
      ],
      "execution_count": null,
      "outputs": []
    },
    {
      "cell_type": "markdown",
      "metadata": {
        "id": "qHgqrXBOvSUW"
      },
      "source": [
        "#### 6"
      ]
    },
    {
      "cell_type": "code",
      "metadata": {
        "id": "eIgTXat0vT6r"
      },
      "source": [
        "# code"
      ],
      "execution_count": null,
      "outputs": []
    },
    {
      "cell_type": "markdown",
      "metadata": {
        "id": "762KLaUCvXBj"
      },
      "source": [
        "#### 7"
      ]
    },
    {
      "cell_type": "code",
      "metadata": {
        "id": "LhGcYn-vvZ6I"
      },
      "source": [
        "# code"
      ],
      "execution_count": null,
      "outputs": []
    },
    {
      "cell_type": "markdown",
      "metadata": {
        "id": "i5vFIJD3va2p"
      },
      "source": [
        "#### 8"
      ]
    },
    {
      "cell_type": "markdown",
      "metadata": {
        "id": "WPTluAKevdH7"
      },
      "source": [
        "#### 9"
      ]
    },
    {
      "cell_type": "code",
      "metadata": {
        "id": "py3OFpVivcXv"
      },
      "source": [
        "# code"
      ],
      "execution_count": null,
      "outputs": []
    },
    {
      "cell_type": "code",
      "execution_count": null,
      "metadata": {},
      "outputs": [],
      "source": []
    },
    {
      "cell_type": "code",
      "execution_count": null,
      "metadata": {},
      "outputs": [],
      "source": []
    },
    {
      "cell_type": "code",
      "execution_count": null,
      "metadata": {},
      "outputs": [],
      "source": []
    },
    {
      "cell_type": "code",
      "execution_count": null,
      "metadata": {},
      "outputs": [],
      "source": []
    },
    {
      "cell_type": "code",
      "metadata": {
        "id": "iZaebB2Dvejk"
      },
      "source": [
        "# code"
      ],
      "execution_count": null,
      "outputs": []
    },
    {
      "cell_type": "markdown",
      "metadata": {
        "id": "cBUb2I6Lvfjg"
      },
      "source": [
        "#### 10"
      ]
    },
    {
      "cell_type": "code",
      "metadata": {
        "id": "A3vS-v54vhZG"
      },
      "source": [
        "# code"
      ],
      "execution_count": null,
      "outputs": []
    },
    {
      "source": [
        "##### more"
      ],
      "cell_type": "code",
      "metadata": {
        "id": "9auudH5MviFg"
      },
      "execution_count": null,
      "outputs": []
    },
    {
      "cell_type": "markdown",
      "metadata": {
        "id": "LKHINRLLvohC"
      },
      "source": [
        "8. (option)Remeber to save your dataSet after processing for future usage:\n"
      ]
    },
    {
      "cell_type": "markdown",
      "metadata": {
        "id": "eaDWN21SvpXc"
      },
      "source": [
        "### Submission guideline:\n",
        "1. write your code and report in this notebook. \n",
        "2. save this notebook as <person1ubname_person2ubname.ipynb>.\n",
        "3. save your raw data in data folder.\n",
        "4. save the notebook file with data folder in a folder named <Jiayi_person1ubname_person2ubname.zip> or <Ping_person1ubname_person2ubname.zip> or <Chen_person1ubname_person2ubname.zip> depended on which TA you have choosed. \n",
        "5. upload your zip file to timberlake server."
      ]
    },
    {
      "cell_type": "markdown",
      "metadata": {
        "id": "EKhTnH90vyGU"
      },
      "source": [
        "### Grading:\n",
        "    0 – no submission by deadline\n",
        "    15 – completed submission with all the requirements\n",
        "    10 – there are missing items, or unsatisfactory in some respects\n",
        "    5 – submission present but many required items missing or code not working\n",
        "    \n",
        "Once the deadline is past, you get a zero for the phase if you did not submit anything, even though you need to complete the phase to work on the next phase.\n"
      ]
    },
    {
      "cell_type": "markdown",
      "metadata": {
        "id": "dFA49ew2vtR5"
      },
      "source": [
        "### Example Answer\n",
        "(I am using the dataset from https://www.kaggle.com/gpreda/covid-world-vaccination-progress to provide a sample answer )\n",
        "\n",
        "1. Source of Data: https://ourworldindata.org/\n",
        "2. Give a name to your dataset: COVID-19 WVP (World Vaccination Progress)\n",
        "3. Background:\n",
        "   + Data were collected by Our World in Data\n",
        "   + Time Period: 2020-2021\n",
        "   + Scope (if there is please specified): Global\n",
        "   + Data Unit: Individual country\n"
      ]
    },
    {
      "cell_type": "markdown",
      "metadata": {
        "id": "JFkWb7Mlv-Mn"
      },
      "source": [
        "|Column label|description|\n",
        "|-|-|\n",
        "| Country | this is the country for which the vaccination information is provided |\n",
        "| Country ISO Code | ISO code for the country|\n",
        "|Date | date for the data entry; for some of the dates we have only the daily vaccinations, for others, only the (cumulative) total|\n",
        "|Total number of vaccinations| this is the absolute number of total immunizations in the country |\n",
        "|Total number of people vaccinated| a person, depending on the immunization scheme, will receive one or more (typically 2) vaccines; at a certain moment, the number of vaccination might be larger than the number of people|\n",
        "|Total number of people fully vaccinated| the number of people that received the entire set of immunization according to the immunization scheme (typically 2); at a certain moment in time, there might be a certain number of people that received one vaccine and another number (smaller) of people that received all vaccines in the scheme|\n",
        "|Daily vaccinations (raw) | for a certain data entry, the number of vaccination for that date/country|\n",
        "|Daily vaccinations | for a certain data entry, the number of vaccination for that date/country|\n",
        "|Total vaccinations per hundred| ratio (in percent) between vaccination number and total population up to the date in the country|\n",
        "|Total number of people vaccinated per hundred | ratio (in percent) between population immunized and total population up to the date in the country|\n",
        "|Total number of people fully vaccinated per hundred |ratio (in percent) between population fully immunized and total population up to the date in the country|\n",
        "|Number of vaccinations per day | number of daily vaccination for that day and country|\n",
        "|Daily vaccinations per million | ratio (in ppm) between vaccination number and total population for the current date in the country|\n",
        "|Vaccines used in the country | total number of vaccines used in the country (up to date)|\n",
        "|Source name | source of the information (national authority, international organization, local organization etc.)|\n",
        "|Source website | website of the source of information|"
      ]
    },
    {
      "cell_type": "markdown",
      "metadata": {
        "id": "QAT7me0Lv7VG"
      },
      "source": [
        "4. Introduction of dataset: Answer 2 questions:\n",
        "+ How many columns? Show all the column labels. ((You can use pandas.DataFrame.columns to easily show all the labels of columns.)\n",
        "+ What are they refering to respectively? please write in table form (markdown syntax for drawing tables : [markdown tutorial with examples](https://guides.github.com/features/mastering-markdown/))"
      ]
    },
    {
      "cell_type": "markdown",
      "metadata": {
        "id": "Sh89X2GrwAsJ"
      },
      "source": [
        "5. What hypothesis or conclusion do you want to study from the data?  (Remember this relative to your future phases of task)\\\\\n",
        "The relation between time with respect to increaseing of vaccinated people per day is decreasing negative exponetially (You don't need to be too specific on the hypothesis, something vague is fine. But the hypothesis mustn't be too obvious to analysis, e.g. find the country with largest vaccinated people ). \\\\"
      ]
    },
    {
      "cell_type": "markdown",
      "metadata": {
        "id": "7y9jxRMXwDe2"
      },
      "source": [
        "6. Write codes to load the data (recommend: pandas package) save your data in your google drive \"./data\" folder"
      ]
    },
    {
      "cell_type": "code",
      "metadata": {
        "colab": {
          "base_uri": "https://localhost:8080/",
          "height": 392
        },
        "id": "kizngdmFwHQb",
        "outputId": "684fec4e-8929-4cf5-f4af-3a7b12c6f987"
      },
      "source": [
        "import pandas as pd\n",
        "from google.colab import files\n",
        "from google.colab import drive\n",
        "drive.mount('/content/drive')\n",
        "\n",
        "df = pd.read_csv(\"/content/drive/My Drive/data/test.csv\")"
      ],
      "execution_count": null,
      "outputs": []
    },
    {
      "cell_type": "markdown",
      "metadata": {
        "id": "ES9tVum0wPvu"
      },
      "source": [
        "7. IDA (Initial Data Analysis)"
      ]
    },
    {
      "cell_type": "markdown",
      "metadata": {
        "id": "tJ5HmBT1wS1h"
      },
      "source": [
        "Statement: I want to take a look at the brief description of data\n",
        "\n",
        "\n",
        "\n",
        "```\n",
        "df.describe()\n",
        "```\n"
      ]
    },
    {
      "cell_type": "markdown",
      "metadata": {
        "id": "Ed9243e9wWD4"
      },
      "source": [
        "8. (option)Remeber to save your dataSet after processing for future usage:\n"
      ]
    },
    {
      "cell_type": "code",
      "metadata": {
        "id": "XeTdT_izwYAv"
      },
      "source": [
        "df.to_csv(index=False) # for example"
      ],
      "execution_count": null,
      "outputs": []
    }
  ]
}